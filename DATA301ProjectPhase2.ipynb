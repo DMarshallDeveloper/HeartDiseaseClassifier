{
 "cells": [
  {
   "cell_type": "markdown",
   "id": "96da9f96",
   "metadata": {},
   "source": [
    "# DATA301 Project Phase 2"
   ]
  },
  {
   "cell_type": "markdown",
   "id": "2db3138f",
   "metadata": {},
   "source": [
    "This is my notebook for phase 2 of my project for DATA301.\n",
    "\n",
    "In it I will go through all the stages of loading in the data, cleaning and preprocessing it, examining the features, and finally producing the best model I can for my fitted data"
   ]
  },
  {
   "cell_type": "markdown",
   "id": "f52f8b30",
   "metadata": {},
   "source": [
    "### Part 1 - Loading"
   ]
  },
  {
   "cell_type": "markdown",
   "id": "39262c48",
   "metadata": {},
   "source": [
    "In this part I will load all the required libraries, as well as the required datasets"
   ]
  },
  {
   "cell_type": "markdown",
   "id": "cc49703a",
   "metadata": {},
   "source": [
    "Loading the libraries"
   ]
  },
  {
   "cell_type": "code",
   "execution_count": 20,
   "id": "6da7c2ed",
   "metadata": {},
   "outputs": [],
   "source": [
    "import numpy as np\n",
    "\n",
    "import pandas as pd\n",
    "from pandas.plotting import scatter_matrix\n",
    "\n",
    "import seaborn as sns\n",
    "\n",
    "%matplotlib inline\n",
    "import matplotlib as mpl\n",
    "import matplotlib.pyplot as plt\n",
    "\n",
    "from sklearn.compose import ColumnTransformer\n",
    "from sklearn.ensemble import RandomForestClassifier\n",
    "from sklearn.impute import SimpleImputer\n",
    "from sklearn.linear_model import LogisticRegression\n",
    "from sklearn.metrics import mean_squared_error, accuracy_score, roc_auc_score\n",
    "from sklearn.model_selection import GridSearchCV, train_test_split\n",
    "from sklearn.pipeline import Pipeline\n",
    "from sklearn.preprocessing import OneHotEncoder, StandardScaler, OrdinalEncoder\n",
    "\n",
    "from imblearn.under_sampling import RandomUnderSampler\n",
    "from imblearn.pipeline import Pipeline\n",
    "from imblearn.over_sampling import SMOTENC"
   ]
  },
  {
   "cell_type": "markdown",
   "id": "a4022acd",
   "metadata": {},
   "source": [
    "Now we will load all the datasets that we want to use\n",
    "1. Body Measures - https://wwwn.cdc.gov/Nchs/Nhanes/2017-2018/BMX_J.htm\n",
    "2. Blood Pressure - https://wwwn.cdc.gov/Nchs/Nhanes/2017-2018/BPX_J.htm\n",
    "3. Cardiovasular Health - https://wwwn.cdc.gov/Nchs/Nhanes/2017-2018/CDQ_J.htm\n",
    "4. Demographics - https://wwwn.cdc.gov/Nchs/Nhanes/2017-2018/DEMO_J.htm\n",
    "5. Medical Conditions - https://wwwn.cdc.gov/Nchs/Nhanes/2017-2018/MCQ_J.htm"
   ]
  },
  {
   "cell_type": "code",
   "execution_count": 21,
   "id": "5d2520ad",
   "metadata": {},
   "outputs": [],
   "source": [
    "body_measures = pd.read_sas('data\\BMX_J.XPT')\n",
    "blood_pressure = pd.read_sas('data\\BPX_J.XPT')\n",
    "cardio_health = pd.read_sas('data\\CDQ_J.XPT')\n",
    "demographics = pd.read_sas('data\\DEMO_J.XPT')\n",
    "medical_conditions = pd.read_sas('data\\MCQ_J.XPT')"
   ]
  },
  {
   "cell_type": "markdown",
   "id": "2ace5c81",
   "metadata": {},
   "source": [
    "Now we need to drop several columns."
   ]
  },
  {
   "cell_type": "markdown",
   "id": "f7ed6d35",
   "metadata": {},
   "source": [
    "#### Body Measures Dataset"
   ]
  },
  {
   "cell_type": "markdown",
   "id": "2aadad0a",
   "metadata": {},
   "source": [
    "For our first dataset, the body measures one, there are only 4 columns that we are interested in from looking at the documentation (https://wwwn.cdc.gov/Nchs/Nhanes/2017-2018/BMX_J.htm), which would be the SEQN, weight, height, and BMI, and the rest seem unneccesary so we will exclude them."
   ]
  },
  {
   "cell_type": "code",
   "execution_count": 22,
   "id": "bf13d03c",
   "metadata": {},
   "outputs": [
    {
     "name": "stdout",
     "output_type": "stream",
     "text": [
      "      SEQN  Weight  Height   BMI\n",
      "0  93703.0    13.7    88.6  17.5\n",
      "1  93704.0    13.9    94.2  15.7\n",
      "2  93705.0    79.5   158.3  31.7\n",
      "3  93706.0    66.3   175.7  21.5\n",
      "4  93707.0    45.4   158.4  18.1\n",
      "Total number of respondents\n",
      "8704\n",
      "% NaN occurrences in Columns:\n",
      "SEQN      0.000000\n",
      "Weight    1.424632\n",
      "Height    7.904412\n",
      "BMI       8.030790\n",
      "dtype: float64\n"
     ]
    }
   ],
   "source": [
    "body_measures_short = body_measures[['SEQN', 'BMXWT', 'BMXHT', 'BMXBMI']]\n",
    "body_measures_short.columns = ['SEQN', 'Weight', 'Height', 'BMI']\n",
    "print(body_measures_short.head())\n",
    "\n",
    "print('Total number of respondents')\n",
    "print(len(body_measures_short))\n",
    "print('% NaN occurrences in Columns:')\n",
    "print(100 * body_measures_short.isnull().sum(axis = 0)/len(body_measures_short))"
   ]
  },
  {
   "cell_type": "markdown",
   "id": "b8ca2e84",
   "metadata": {},
   "source": [
    "We can see that of the columns we have selected, they have very few NA values in them which means that we can be happy using them for now"
   ]
  },
  {
   "cell_type": "markdown",
   "id": "73cf4285",
   "metadata": {},
   "source": [
    "#### Blood Pressure Dataset"
   ]
  },
  {
   "cell_type": "markdown",
   "id": "803d169b",
   "metadata": {},
   "source": [
    "For our second dataset, the blood pressure one, there are several unneccessary columns. From reading the documentation (https://wwwn.cdc.gov/Nchs/Nhanes/2017-2018/BPX_J.htm), we can see that there are columns about cuff size, and which arm the measurement was taken on, but we are only interested in the recorded blood pressure and the resting heart rate. Since the blood pressure was measured 4 consecutive times, we are going to take an average of the four as our resulting blood pressures, and keep these along with their 60 second heart rate. But first, we need to check if any of these columns have high occurrences of NAs, as they will affect the output"
   ]
  },
  {
   "cell_type": "code",
   "execution_count": 23,
   "id": "bdac03a0",
   "metadata": {},
   "outputs": [
    {
     "name": "stdout",
     "output_type": "stream",
     "text": [
      "Total number of respondents\n",
      "8704\n",
      "% NaN occurrences in Columns:\n",
      "SEQN         0.000000\n",
      "PEASCCT1    94.898897\n",
      "BPXCHR      82.318474\n",
      "BPAARM      21.679688\n",
      "BPACSZ      21.737132\n",
      "BPXPLS      22.541360\n",
      "BPXPULS      4.859835\n",
      "BPXPTY      22.541360\n",
      "BPXML1      22.667739\n",
      "BPXSY1      27.596507\n",
      "BPXDI1      27.596507\n",
      "BPAEN1      27.596507\n",
      "BPXSY2      24.597886\n",
      "BPXDI2      24.597886\n",
      "BPAEN2      24.597886\n",
      "BPXSY3      24.885110\n",
      "BPXDI3      24.885110\n",
      "BPAEN3      24.885110\n",
      "BPXSY4      93.612132\n",
      "BPXDI4      93.612132\n",
      "BPAEN4      93.612132\n",
      "dtype: float64\n"
     ]
    }
   ],
   "source": [
    "print('Total number of respondents')\n",
    "print(len(blood_pressure))\n",
    "print('% NaN occurrences in Columns:')\n",
    "print(100 * blood_pressure.isnull().sum(axis = 0)/len(blood_pressure))"
   ]
  },
  {
   "cell_type": "markdown",
   "id": "99a5895c",
   "metadata": {},
   "source": [
    "Most of the columns that we want to use have about 25% of reponses that are NAs, which is okay for our purposes. However, the fourth reading has 93% NA responses, so we will exclude it from our calculations and just use the first 3 readings of the blood pressures"
   ]
  },
  {
   "cell_type": "code",
   "execution_count": 24,
   "id": "7848e860",
   "metadata": {
    "scrolled": true
   },
   "outputs": [
    {
     "name": "stdout",
     "output_type": "stream",
     "text": [
      "      SEQN  diastolic_avg  systolic_avg  pulse_rate_BPM\n",
      "0  93703.0            NaN           NaN             NaN\n",
      "1  93704.0            NaN           NaN             NaN\n",
      "2  93705.0            NaN           NaN            52.0\n",
      "3  93706.0      73.333333    111.333333            82.0\n",
      "4  93707.0      47.333333    128.000000           100.0\n",
      "2627\n",
      "8704\n"
     ]
    }
   ],
   "source": [
    "blood_pressure['diastolic_avg'] = blood_pressure[['BPXDI1', 'BPXDI2', 'BPXDI3']].mean(axis=1, skipna=False)\n",
    "blood_pressure['systolic_avg'] = blood_pressure[['BPXSY1', 'BPXSY2', 'BPXSY3']].mean(axis=1, skipna=False)\n",
    "blood_pressure['pulse_rate_BPM'] = blood_pressure['BPXPLS']\n",
    "blood_pressure_short = blood_pressure[['SEQN', 'diastolic_avg', 'systolic_avg', 'pulse_rate_BPM']]\n",
    "print(blood_pressure_short.head())\n",
    "print(len(blood_pressure_short[blood_pressure_short.isna().any(axis=1)]))\n",
    "print(len(blood_pressure_short))"
   ]
  },
  {
   "cell_type": "markdown",
   "id": "7506463b",
   "metadata": {
    "scrolled": true
   },
   "source": [
    "From this we can see that there are now around 20% of responses that have an NA in one or more of these columns, which is an acceptable number, and we will deal with these later."
   ]
  },
  {
   "cell_type": "markdown",
   "id": "78c12de5",
   "metadata": {},
   "source": [
    "#### Cardiovascular Health Dataset"
   ]
  },
  {
   "cell_type": "markdown",
   "id": "8dd31b64",
   "metadata": {},
   "source": [
    "Next we are going to take a look at the cardiovascular health dataset, and see if there are any columns which need to be dropped. Referring to the documentation, https://wwwn.cdc.gov/Nchs/Nhanes/2017-2018/CDQ_J.htm, there are a lot of columns which seem useful, so we will first check the percentage of NA responses for each column"
   ]
  },
  {
   "cell_type": "code",
   "execution_count": 25,
   "id": "9337b434",
   "metadata": {},
   "outputs": [
    {
     "name": "stdout",
     "output_type": "stream",
     "text": [
      "Cardiovascular Health dataset\n",
      "Total number of respondents\n",
      "3882\n",
      "Percentage of data missing by column:\n",
      "SEQN         0.0\n",
      "CDQ001       0.0\n",
      "CDQ002      71.0\n",
      "CDQ003      90.0\n",
      "CDQ004      91.0\n",
      "CDQ005      92.0\n",
      "CDQ006      93.0\n",
      "CDQ009A    100.0\n",
      "CDQ009B     99.0\n",
      "CDQ009C    100.0\n",
      "CDQ009D     97.0\n",
      "CDQ009E     98.0\n",
      "CDQ009F     98.0\n",
      "CDQ009G    100.0\n",
      "CDQ009H    100.0\n",
      "CDQ008      71.0\n",
      "CDQ010       0.0\n",
      "dtype: float64\n"
     ]
    }
   ],
   "source": [
    "print('Cardiovascular Health dataset')\n",
    "print('Total number of respondents')\n",
    "print(len(cardio_health))\n",
    "print('Percentage of data missing by column:')\n",
    "print(round(100 * cardio_health.isnull().sum(axis = 0)/len(cardio_health)))"
   ]
  },
  {
   "cell_type": "markdown",
   "id": "ad135be7",
   "metadata": {},
   "source": [
    "This dataset seems very empty, as there are only 3 columns that have more than 30% of respondents answering, so I do not think that this dataset is very good to use, as trying to fill in the missing values will be too hard as there are too many of them for it to be useful, so we will no longer work with this dataset"
   ]
  },
  {
   "cell_type": "markdown",
   "id": "e752d291",
   "metadata": {},
   "source": [
    "#### Demographics Dataset"
   ]
  },
  {
   "cell_type": "markdown",
   "id": "fd6055d2",
   "metadata": {},
   "source": [
    "Thirdly we take a look at the demographics dataset. According to the documentation, https://wwwn.cdc.gov/Nchs/Nhanes/2017-2018/DEMO_J.htm, this contains questions about peoples lives that are more general than the strictly medical data we have looked at so far. There are also a lot more columns in this dataset than the others, so we will see if there are any columns that we can drop based on them having too many null values"
   ]
  },
  {
   "cell_type": "code",
   "execution_count": 26,
   "id": "ddfa9e87",
   "metadata": {},
   "outputs": [
    {
     "name": "stdout",
     "output_type": "stream",
     "text": [
      "Total number of respondents\n",
      "9254\n",
      "% NaN occurrences in Columns:\n",
      "SEQN         0.000000\n",
      "SDDSRVYR     0.000000\n",
      "RIDSTATR     0.000000\n",
      "RIAGENDR     0.000000\n",
      "RIDAGEYR     0.000000\n",
      "RIDAGEMN    93.548736\n",
      "RIDRETH1     0.000000\n",
      "RIDRETH3     0.000000\n",
      "RIDEXMON     5.943376\n",
      "RIDEXAGM    62.902529\n",
      "DMQMILIZ    35.119948\n",
      "DMQADFC     93.937757\n",
      "DMDBORN4     0.000000\n",
      "DMDCITZN     0.032418\n",
      "DMDYRSUS    78.949643\n",
      "DMDEDUC3    75.081046\n",
      "DMDEDUC2    39.820618\n",
      "DMDMARTL    39.820618\n",
      "RIDEXPRG    88.005187\n",
      "SIALANG      0.000000\n",
      "SIAPROXY     0.000000\n",
      "SIAINTRP     0.000000\n",
      "FIALANG      5.122109\n",
      "FIAPROXY     5.122109\n",
      "FIAINTRP     5.122109\n",
      "MIALANG     27.771774\n",
      "MIAPROXY    27.771774\n",
      "MIAINTRP    27.771774\n",
      "AIALANGA    46.217852\n",
      "DMDHHSIZ     0.000000\n",
      "DMDFMSIZ     0.000000\n",
      "DMDHHSZA     0.000000\n",
      "DMDHHSZB     0.000000\n",
      "DMDHHSZE     0.000000\n",
      "DMDHRGND     0.000000\n",
      "DMDHRAGZ     0.000000\n",
      "DMDHREDZ     5.295008\n",
      "DMDHRMAZ     2.063972\n",
      "DMDHSEDZ    48.660039\n",
      "WTINT2YR     0.000000\n",
      "WTMEC2YR     0.000000\n",
      "SDMVPSU      0.000000\n",
      "SDMVSTRA     0.000000\n",
      "INDHHIN2     5.305814\n",
      "INDFMIN2     5.122109\n",
      "INDFMPIR    13.302356\n",
      "dtype: float64\n"
     ]
    }
   ],
   "source": [
    "print('Total number of respondents')\n",
    "print(len(demographics))\n",
    "print('% NaN occurrences in Columns:')\n",
    "print(100 * demographics.isnull().sum(axis = 0)/len(demographics))"
   ]
  },
  {
   "cell_type": "markdown",
   "id": "9d35c435",
   "metadata": {},
   "source": [
    "Most of the columns have very few NA values, so we will go ahead and drop all those that have high NA responses"
   ]
  },
  {
   "cell_type": "code",
   "execution_count": 27,
   "id": "6b8fc558",
   "metadata": {},
   "outputs": [
    {
     "name": "stdout",
     "output_type": "stream",
     "text": [
      "Index(['SEQN', 'SDDSRVYR', 'RIDSTATR', 'RIAGENDR', 'RIDAGEYR', 'RIDRETH1',\n",
      "       'RIDRETH3', 'RIDEXMON', 'DMDBORN4', 'DMDCITZN', 'SIALANG', 'SIAPROXY',\n",
      "       'SIAINTRP', 'FIALANG', 'FIAPROXY', 'FIAINTRP', 'DMDHHSIZ', 'DMDFMSIZ',\n",
      "       'DMDHHSZA', 'DMDHHSZB', 'DMDHHSZE', 'DMDHRGND', 'DMDHRAGZ', 'DMDHREDZ',\n",
      "       'DMDHRMAZ', 'WTINT2YR', 'WTMEC2YR', 'SDMVPSU', 'SDMVSTRA', 'INDHHIN2',\n",
      "       'INDFMIN2', 'INDFMPIR'],\n",
      "      dtype='object')\n"
     ]
    }
   ],
   "source": [
    "demographics_short = demographics.copy()\n",
    "demographics_short.drop(['RIDAGEMN', 'RIDEXAGM', 'DMQMILIZ', 'DMQADFC', 'DMDYRSUS', 'DMDEDUC3', 'DMDEDUC2', 'DMDMARTL', 'RIDEXPRG', 'MIALANG', 'MIAPROXY', 'MIAINTRP', 'AIALANGA', 'DMDHSEDZ'], axis=1, inplace=True)\n",
    "print(demographics_short.columns)"
   ]
  },
  {
   "cell_type": "markdown",
   "id": "fd807239",
   "metadata": {},
   "source": [
    "Next we will select all the columns that we deem relevant. Looking through the dataset, the ones which we do not want to keep are ones that are less about the person, like the data release cycle, and the time period over which the questionaire was conducted, and other irrelevant information such as the information about the household reference person. We do this to narrow down the number of features so that the classification does not become overfitted"
   ]
  },
  {
   "cell_type": "code",
   "execution_count": 28,
   "id": "cd85f47b",
   "metadata": {},
   "outputs": [
    {
     "name": "stdout",
     "output_type": "stream",
     "text": [
      "      SEQN  RIAGENDR  RIDAGEYR  RIDRETH1  DMDBORN4  DMDCITZN  DMDFMSIZ  \\\n",
      "0  93703.0       2.0       2.0       5.0       1.0       1.0       5.0   \n",
      "1  93704.0       1.0       2.0       3.0       1.0       1.0       4.0   \n",
      "2  93705.0       2.0      66.0       4.0       1.0       1.0       1.0   \n",
      "3  93706.0       1.0      18.0       5.0       1.0       1.0       5.0   \n",
      "4  93707.0       1.0      13.0       5.0       1.0       1.0       7.0   \n",
      "\n",
      "   INDFMPIR  \n",
      "0      5.00  \n",
      "1      5.00  \n",
      "2      0.82  \n",
      "3       NaN  \n",
      "4      1.88  \n",
      "Index(['SEQN', 'RIAGENDR', 'RIDAGEYR', 'RIDRETH1', 'DMDBORN4', 'DMDCITZN',\n",
      "       'DMDFMSIZ', 'INDFMPIR'],\n",
      "      dtype='object')\n"
     ]
    }
   ],
   "source": [
    "demographics_short2 = demographics_short.copy()\n",
    "demographics_short2.drop(['SDDSRVYR', 'RIDSTATR', 'RIDRETH3', 'RIDEXMON', 'SIALANG', 'SIAPROXY', 'SIAINTRP', 'FIALANG', 'FIAPROXY', 'FIAINTRP', 'DMDHHSIZ', 'DMDHHSZA', 'DMDHHSZB', 'DMDHHSZE', 'DMDHRGND', 'DMDHRAGZ', 'DMDHREDZ', 'DMDHRMAZ', 'WTINT2YR', 'WTMEC2YR', 'SDMVPSU', 'SDMVSTRA', 'INDHHIN2',\n",
    "       'INDFMIN2'], axis=1, inplace=True)\n",
    "print(demographics_short2.head())\n",
    "print(demographics_short2.columns)"
   ]
  },
  {
   "cell_type": "markdown",
   "id": "b372fdc8",
   "metadata": {},
   "source": [
    "Finally we will rename the variables in this dataset too so that they are clearer to understand"
   ]
  },
  {
   "cell_type": "code",
   "execution_count": 29,
   "id": "71292e74",
   "metadata": {},
   "outputs": [
    {
     "data": {
      "text/html": [
       "<div>\n",
       "<style scoped>\n",
       "    .dataframe tbody tr th:only-of-type {\n",
       "        vertical-align: middle;\n",
       "    }\n",
       "\n",
       "    .dataframe tbody tr th {\n",
       "        vertical-align: top;\n",
       "    }\n",
       "\n",
       "    .dataframe thead th {\n",
       "        text-align: right;\n",
       "    }\n",
       "</style>\n",
       "<table border=\"1\" class=\"dataframe\">\n",
       "  <thead>\n",
       "    <tr style=\"text-align: right;\">\n",
       "      <th></th>\n",
       "      <th>SEQN</th>\n",
       "      <th>Gender</th>\n",
       "      <th>Age</th>\n",
       "      <th>Race</th>\n",
       "      <th>CountryOfBirth</th>\n",
       "      <th>CitizenshipStatus</th>\n",
       "      <th>FamilySize</th>\n",
       "      <th>FamilyIncomePovertyRatio</th>\n",
       "    </tr>\n",
       "  </thead>\n",
       "  <tbody>\n",
       "    <tr>\n",
       "      <th>0</th>\n",
       "      <td>93703.0</td>\n",
       "      <td>2.0</td>\n",
       "      <td>2.0</td>\n",
       "      <td>5.0</td>\n",
       "      <td>1.0</td>\n",
       "      <td>1.0</td>\n",
       "      <td>5.0</td>\n",
       "      <td>5.00</td>\n",
       "    </tr>\n",
       "    <tr>\n",
       "      <th>1</th>\n",
       "      <td>93704.0</td>\n",
       "      <td>1.0</td>\n",
       "      <td>2.0</td>\n",
       "      <td>3.0</td>\n",
       "      <td>1.0</td>\n",
       "      <td>1.0</td>\n",
       "      <td>4.0</td>\n",
       "      <td>5.00</td>\n",
       "    </tr>\n",
       "    <tr>\n",
       "      <th>2</th>\n",
       "      <td>93705.0</td>\n",
       "      <td>2.0</td>\n",
       "      <td>66.0</td>\n",
       "      <td>4.0</td>\n",
       "      <td>1.0</td>\n",
       "      <td>1.0</td>\n",
       "      <td>1.0</td>\n",
       "      <td>0.82</td>\n",
       "    </tr>\n",
       "    <tr>\n",
       "      <th>3</th>\n",
       "      <td>93706.0</td>\n",
       "      <td>1.0</td>\n",
       "      <td>18.0</td>\n",
       "      <td>5.0</td>\n",
       "      <td>1.0</td>\n",
       "      <td>1.0</td>\n",
       "      <td>5.0</td>\n",
       "      <td>NaN</td>\n",
       "    </tr>\n",
       "    <tr>\n",
       "      <th>4</th>\n",
       "      <td>93707.0</td>\n",
       "      <td>1.0</td>\n",
       "      <td>13.0</td>\n",
       "      <td>5.0</td>\n",
       "      <td>1.0</td>\n",
       "      <td>1.0</td>\n",
       "      <td>7.0</td>\n",
       "      <td>1.88</td>\n",
       "    </tr>\n",
       "  </tbody>\n",
       "</table>\n",
       "</div>"
      ],
      "text/plain": [
       "      SEQN  Gender   Age  Race  CountryOfBirth  CitizenshipStatus  FamilySize  \\\n",
       "0  93703.0     2.0   2.0   5.0             1.0                1.0         5.0   \n",
       "1  93704.0     1.0   2.0   3.0             1.0                1.0         4.0   \n",
       "2  93705.0     2.0  66.0   4.0             1.0                1.0         1.0   \n",
       "3  93706.0     1.0  18.0   5.0             1.0                1.0         5.0   \n",
       "4  93707.0     1.0  13.0   5.0             1.0                1.0         7.0   \n",
       "\n",
       "   FamilyIncomePovertyRatio  \n",
       "0                      5.00  \n",
       "1                      5.00  \n",
       "2                      0.82  \n",
       "3                       NaN  \n",
       "4                      1.88  "
      ]
     },
     "execution_count": 29,
     "metadata": {},
     "output_type": "execute_result"
    }
   ],
   "source": [
    "demographics_short2.columns = ['SEQN', 'Gender', 'Age', 'Race', 'CountryOfBirth', 'CitizenshipStatus', 'FamilySize', 'FamilyIncomePovertyRatio']\n",
    "demographics_short2.head()"
   ]
  },
  {
   "cell_type": "markdown",
   "id": "dde8726c",
   "metadata": {
    "scrolled": true
   },
   "source": [
    "Now we have an acceptable amount of data from this dataset, we can move on to the next one"
   ]
  },
  {
   "cell_type": "markdown",
   "id": "ebcaf940",
   "metadata": {},
   "source": [
    "#### Medical Conditions Dataset"
   ]
  },
  {
   "cell_type": "markdown",
   "id": "32115f40",
   "metadata": {},
   "source": [
    "For the medical conditions dataset, we are only interested in the column MCQ160c - Ever told you had coronary heart disease. This is our class column, which is asking respondents if a doctor or other health professional ever told them that they had coronary heart disease, and the SEQN to allow us to merge this dataset with all the others. So we will isolate these two columns, and then check for null values"
   ]
  },
  {
   "cell_type": "code",
   "execution_count": 30,
   "id": "e8d2b0d6",
   "metadata": {},
   "outputs": [
    {
     "name": "stdout",
     "output_type": "stream",
     "text": [
      "Total number of respondents\n",
      "8897\n",
      "Percentage of missing values:\n",
      "SEQN                0.0\n",
      "hasHeartDisease    37.0\n",
      "dtype: float64\n"
     ]
    }
   ],
   "source": [
    "medical_conditions_short = medical_conditions[['SEQN', 'MCQ160C']]\n",
    "medical_conditions_short.columns = ['SEQN', 'hasHeartDisease']\n",
    "print('Total number of respondents')\n",
    "print(len(medical_conditions_short))\n",
    "print('Percentage of missing values:')\n",
    "print(round(100 * medical_conditions_short.isnull().sum(axis = 0)/len(medical_conditions_short)))"
   ]
  },
  {
   "cell_type": "markdown",
   "id": "09b7ace5",
   "metadata": {},
   "source": [
    "From this we can see that around 37% of respondents we don't have an answer for, which is quite a high number, however our dataset is very large so we should be able to remove these columns later and still have enough data to perform our analysis"
   ]
  },
  {
   "cell_type": "code",
   "execution_count": 31,
   "id": "52dcd921",
   "metadata": {},
   "outputs": [
    {
     "name": "stdout",
     "output_type": "stream",
     "text": [
      "      SEQN  hasHeartDisease\n",
      "0  93703.0              NaN\n",
      "1  93704.0              NaN\n",
      "2  93705.0              2.0\n",
      "3  93706.0              NaN\n",
      "4  93707.0              NaN\n"
     ]
    }
   ],
   "source": [
    "medical_conditions_short = medical_conditions[['SEQN', 'MCQ160C']]\n",
    "medical_conditions_short.columns = ['SEQN', 'hasHeartDisease']\n",
    "print(medical_conditions_short.head())"
   ]
  },
  {
   "cell_type": "markdown",
   "id": "2af12fa4",
   "metadata": {
    "scrolled": true
   },
   "source": [
    "# Merging"
   ]
  },
  {
   "cell_type": "markdown",
   "id": "e8235f5c",
   "metadata": {
    "scrolled": true
   },
   "source": [
    "The next step is to merge together the datasets on Respondent Sequence number."
   ]
  },
  {
   "cell_type": "markdown",
   "id": "e8eccb21",
   "metadata": {},
   "source": [
    "First we take a look at the columns in each dataset to ensure that they all have a Respondent Sequence Number column"
   ]
  },
  {
   "cell_type": "code",
   "execution_count": 32,
   "id": "0e0fbd7f",
   "metadata": {},
   "outputs": [
    {
     "name": "stdout",
     "output_type": "stream",
     "text": [
      "<class 'pandas.core.frame.DataFrame'>\n",
      "RangeIndex: 8704 entries, 0 to 8703\n",
      "Data columns (total 4 columns):\n",
      " #   Column  Non-Null Count  Dtype  \n",
      "---  ------  --------------  -----  \n",
      " 0   SEQN    8704 non-null   float64\n",
      " 1   Weight  8580 non-null   float64\n",
      " 2   Height  8016 non-null   float64\n",
      " 3   BMI     8005 non-null   float64\n",
      "dtypes: float64(4)\n",
      "memory usage: 272.1 KB\n",
      "None\n",
      "<class 'pandas.core.frame.DataFrame'>\n",
      "RangeIndex: 8704 entries, 0 to 8703\n",
      "Data columns (total 4 columns):\n",
      " #   Column          Non-Null Count  Dtype  \n",
      "---  ------          --------------  -----  \n",
      " 0   SEQN            8704 non-null   float64\n",
      " 1   diastolic_avg   6077 non-null   float64\n",
      " 2   systolic_avg    6077 non-null   float64\n",
      " 3   pulse_rate_BPM  6742 non-null   float64\n",
      "dtypes: float64(4)\n",
      "memory usage: 272.1 KB\n",
      "None\n",
      "<class 'pandas.core.frame.DataFrame'>\n",
      "RangeIndex: 9254 entries, 0 to 9253\n",
      "Data columns (total 8 columns):\n",
      " #   Column                    Non-Null Count  Dtype  \n",
      "---  ------                    --------------  -----  \n",
      " 0   SEQN                      9254 non-null   float64\n",
      " 1   Gender                    9254 non-null   float64\n",
      " 2   Age                       9254 non-null   float64\n",
      " 3   Race                      9254 non-null   float64\n",
      " 4   CountryOfBirth            9254 non-null   float64\n",
      " 5   CitizenshipStatus         9251 non-null   float64\n",
      " 6   FamilySize                9254 non-null   float64\n",
      " 7   FamilyIncomePovertyRatio  8023 non-null   float64\n",
      "dtypes: float64(8)\n",
      "memory usage: 578.5 KB\n",
      "None\n",
      "<class 'pandas.core.frame.DataFrame'>\n",
      "RangeIndex: 8897 entries, 0 to 8896\n",
      "Data columns (total 2 columns):\n",
      " #   Column           Non-Null Count  Dtype  \n",
      "---  ------           --------------  -----  \n",
      " 0   SEQN             8897 non-null   float64\n",
      " 1   hasHeartDisease  5569 non-null   float64\n",
      "dtypes: float64(2)\n",
      "memory usage: 139.1 KB\n",
      "None\n"
     ]
    }
   ],
   "source": [
    "print(body_measures_short.info())\n",
    "print(blood_pressure_short.info())\n",
    "print(demographics_short2.info())\n",
    "print(medical_conditions_short.info())"
   ]
  },
  {
   "cell_type": "markdown",
   "id": "9717a360",
   "metadata": {},
   "source": [
    "Since they all have the SEQN column, we are safe to merge on this column. We will then remove this column, as it has no influence on whether or not the entry has heart disease"
   ]
  },
  {
   "cell_type": "code",
   "execution_count": 33,
   "id": "b432e357",
   "metadata": {
    "scrolled": false
   },
   "outputs": [
    {
     "name": "stdout",
     "output_type": "stream",
     "text": [
      "   Weight  Height   BMI  diastolic_avg  systolic_avg  pulse_rate_BPM  Gender  \\\n",
      "0    13.7    88.6  17.5            NaN           NaN             NaN     2.0   \n",
      "1    13.9    94.2  15.7            NaN           NaN             NaN     1.0   \n",
      "2    79.5   158.3  31.7            NaN           NaN            52.0     2.0   \n",
      "3    66.3   175.7  21.5      73.333333    111.333333            82.0     1.0   \n",
      "4    45.4   158.4  18.1      47.333333    128.000000           100.0     1.0   \n",
      "\n",
      "    Age  Race  CountryOfBirth  CitizenshipStatus  FamilySize  \\\n",
      "0   2.0   5.0             1.0                1.0         5.0   \n",
      "1   2.0   3.0             1.0                1.0         4.0   \n",
      "2  66.0   4.0             1.0                1.0         1.0   \n",
      "3  18.0   5.0             1.0                1.0         5.0   \n",
      "4  13.0   5.0             1.0                1.0         7.0   \n",
      "\n",
      "   FamilyIncomePovertyRatio  hasHeartDisease  \n",
      "0                      5.00              NaN  \n",
      "1                      5.00              NaN  \n",
      "2                      0.82              2.0  \n",
      "3                       NaN              NaN  \n",
      "4                      1.88              NaN  \n",
      "<class 'pandas.core.frame.DataFrame'>\n",
      "Int64Index: 8366 entries, 0 to 8365\n",
      "Data columns (total 14 columns):\n",
      " #   Column                    Non-Null Count  Dtype  \n",
      "---  ------                    --------------  -----  \n",
      " 0   Weight                    8242 non-null   float64\n",
      " 1   Height                    8016 non-null   float64\n",
      " 2   BMI                       8005 non-null   float64\n",
      " 3   diastolic_avg             6077 non-null   float64\n",
      " 4   systolic_avg              6077 non-null   float64\n",
      " 5   pulse_rate_BPM            6742 non-null   float64\n",
      " 6   Gender                    8366 non-null   float64\n",
      " 7   Age                       8366 non-null   float64\n",
      " 8   Race                      8366 non-null   float64\n",
      " 9   CountryOfBirth            8366 non-null   float64\n",
      " 10  CitizenshipStatus         8363 non-null   float64\n",
      " 11  FamilySize                8366 non-null   float64\n",
      " 12  FamilyIncomePovertyRatio  7332 non-null   float64\n",
      " 13  hasHeartDisease           5265 non-null   float64\n",
      "dtypes: float64(14)\n",
      "memory usage: 980.4 KB\n",
      "None\n"
     ]
    }
   ],
   "source": [
    "joined_dataset = pd.merge(body_measures_short, blood_pressure_short, on='SEQN')\n",
    "joined_dataset = pd.merge(joined_dataset, demographics_short2, on='SEQN')\n",
    "joined_dataset = pd.merge(joined_dataset, medical_conditions_short, on='SEQN')\n",
    "joined_dataset2 = joined_dataset.drop('SEQN', axis=1)\n",
    "print(joined_dataset2.head())\n",
    "print(joined_dataset2.info())"
   ]
  },
  {
   "cell_type": "markdown",
   "id": "07681448",
   "metadata": {
    "scrolled": false
   },
   "source": [
    "The first thing we can do is check the amounts of each class in the dataset"
   ]
  },
  {
   "cell_type": "code",
   "execution_count": 34,
   "id": "d074f53b",
   "metadata": {
    "scrolled": false
   },
   "outputs": [
    {
     "name": "stdout",
     "output_type": "stream",
     "text": [
      "2.0    5006\n",
      "1.0     243\n",
      "9.0      16\n",
      "Name: hasHeartDisease, dtype: int64\n"
     ]
    }
   ],
   "source": [
    "print(joined_dataset2['hasHeartDisease'].value_counts())"
   ]
  },
  {
   "cell_type": "markdown",
   "id": "5ed9cbf7",
   "metadata": {},
   "source": [
    "According to the documentation, a 2 indicates a positive result, 1 indicates a negative result, and 9 means the person doesn't know. We will drop these entries as this is a binary classification, and there are only 16 of these rows. Note that there are a large amount of entries where there is no data for this column, so we will have to drop those entries as well, as they do not have a class associated with them. "
   ]
  },
  {
   "cell_type": "code",
   "execution_count": 35,
   "id": "17464df6",
   "metadata": {
    "scrolled": false
   },
   "outputs": [
    {
     "name": "stdout",
     "output_type": "stream",
     "text": [
      "5249\n"
     ]
    }
   ],
   "source": [
    "joined_dataset3 = joined_dataset2.loc[joined_dataset2['hasHeartDisease'].isin([2, 1])]\n",
    "print(len(joined_dataset3))"
   ]
  },
  {
   "cell_type": "markdown",
   "id": "0f5fc736",
   "metadata": {},
   "source": [
    "Now that we have removed that data, looking at the positive and negative results, we can see that this is a heavily imbalanced dataset, because there are roughly 20 times as many people who don't have heart disease as those who do. This is to be expected, as the survey is of the whole country, and according to the CDC about 6.7% of people have Coronary Heart Disease. (https://www.cdc.gov/heartdisease/facts.htm). Nevertheless, this makes our classification harder, as we have to resolve this imbalance. First we will clean up the data some more, then from our clean data will resolve this imbalance. Note that in cleaning up, it is very difficult to impute the data, as lots of the data is categorical, and in order to impute categorical data we need to rely on methods such as 'most frequent', as mean, median etc will not work here. The other issue with this however is using these metrics is likely to give us a value which is for healthy people, since they have an outsized impact on both the mean and most frequent categories"
   ]
  },
  {
   "cell_type": "code",
   "execution_count": 36,
   "id": "dd977d81",
   "metadata": {
    "scrolled": true
   },
   "outputs": [
    {
     "name": "stdout",
     "output_type": "stream",
     "text": [
      "2.0    3682\n",
      "1.0     177\n",
      "Name: hasHeartDisease, dtype: int64\n"
     ]
    }
   ],
   "source": [
    "joined_dataset4 = joined_dataset3.dropna()\n",
    "print(joined_dataset4['hasHeartDisease'].value_counts())"
   ]
  },
  {
   "cell_type": "markdown",
   "id": "364518cc",
   "metadata": {
    "scrolled": true
   },
   "source": [
    "The next step is to take a look at all the categorical variables. Note that some data is not NA but is still missing, for instance a value of '.' for gender indicates a missing value"
   ]
  },
  {
   "cell_type": "code",
   "execution_count": 37,
   "id": "2eb5826d",
   "metadata": {
    "scrolled": false
   },
   "outputs": [
    {
     "name": "stdout",
     "output_type": "stream",
     "text": [
      "Types of 'Gender'\n",
      "2.0    1978\n",
      "1.0    1881\n",
      "Name: Gender, dtype: int64\n",
      "=======\n",
      "Types of 'Race'\n",
      "3.0    1419\n",
      "4.0     863\n",
      "5.0     761\n",
      "1.0     488\n",
      "2.0     328\n",
      "Name: Race, dtype: int64\n",
      "=======\n",
      "Types of 'CountryOfBirth'\n",
      "1.0    2720\n",
      "2.0    1139\n",
      "Name: CountryOfBirth, dtype: int64\n",
      "=======\n",
      "Types of 'CitizenshipStatus'\n",
      "1.0    3368\n",
      "2.0     482\n",
      "9.0       5\n",
      "7.0       4\n",
      "Name: CitizenshipStatus, dtype: int64\n",
      "=======\n"
     ]
    }
   ],
   "source": [
    "print(\"Types of 'Gender'\")\n",
    "print(joined_dataset4[\"Gender\"].value_counts())\n",
    "print(\"=======\")\n",
    "print(\"Types of 'Race'\")\n",
    "print(joined_dataset4[\"Race\"].value_counts())\n",
    "print(\"=======\")\n",
    "print(\"Types of 'CountryOfBirth'\")\n",
    "print(joined_dataset4[\"CountryOfBirth\"].value_counts())\n",
    "print(\"=======\")\n",
    "print(\"Types of 'CitizenshipStatus'\")\n",
    "print(joined_dataset4[\"CitizenshipStatus\"].value_counts())\n",
    "print(\"=======\")"
   ]
  },
  {
   "cell_type": "markdown",
   "id": "71d9f0ba",
   "metadata": {
    "scrolled": false
   },
   "source": [
    "From this we can see that the categories '77' and '99' in 'CountryOfBirth' are refused/ don't know, which are unhelpful, and the same thing occurs with '7' and '9' in the 'CitizenshipStatus' feature too, so we will remove these entries"
   ]
  },
  {
   "cell_type": "code",
   "execution_count": 38,
   "id": "a596e5e5",
   "metadata": {},
   "outputs": [],
   "source": [
    "joined_dataset5 = joined_dataset4[joined_dataset4.CountryOfBirth.isin([77, 99]) == False]\n",
    "joined_dataset6 = joined_dataset5[joined_dataset5.CitizenshipStatus.isin([7, 9]) == False]"
   ]
  },
  {
   "cell_type": "markdown",
   "id": "d6a94cbb",
   "metadata": {
    "scrolled": true
   },
   "source": [
    "Now we will double check again to be sure no missing values are in our categorical data"
   ]
  },
  {
   "cell_type": "code",
   "execution_count": 39,
   "id": "e6ac67e2",
   "metadata": {
    "scrolled": false
   },
   "outputs": [
    {
     "name": "stdout",
     "output_type": "stream",
     "text": [
      "Types of 'Gender'\n",
      "2.0    1972\n",
      "1.0    1878\n",
      "Name: Gender, dtype: int64\n",
      "=======\n",
      "Types of 'Race'\n",
      "3.0    1419\n",
      "4.0     863\n",
      "5.0     760\n",
      "1.0     481\n",
      "2.0     327\n",
      "Name: Race, dtype: int64\n",
      "=======\n",
      "Types of 'CountryOfBirth'\n",
      "1.0    2720\n",
      "2.0    1130\n",
      "Name: CountryOfBirth, dtype: int64\n",
      "=======\n",
      "Types of 'CitizenshipStatus'\n",
      "1.0    3368\n",
      "2.0     482\n",
      "Name: CitizenshipStatus, dtype: int64\n",
      "=======\n"
     ]
    }
   ],
   "source": [
    "print(\"Types of 'Gender'\")\n",
    "print(joined_dataset6[\"Gender\"].value_counts())\n",
    "print(\"=======\")\n",
    "print(\"Types of 'Race'\")\n",
    "print(joined_dataset6[\"Race\"].value_counts())\n",
    "print(\"=======\")\n",
    "print(\"Types of 'CountryOfBirth'\")\n",
    "print(joined_dataset6[\"CountryOfBirth\"].value_counts())\n",
    "print(\"=======\")\n",
    "print(\"Types of 'CitizenshipStatus'\")\n",
    "print(joined_dataset6[\"CitizenshipStatus\"].value_counts())\n",
    "print(\"=======\")"
   ]
  },
  {
   "cell_type": "markdown",
   "id": "b63b3c0a",
   "metadata": {
    "scrolled": false
   },
   "source": [
    "Now we will change the numbers into actual text, to make it clearer for analysis what the affecting variables actually are. We will also change the class labels"
   ]
  },
  {
   "cell_type": "code",
   "execution_count": 40,
   "id": "0c1461f0",
   "metadata": {},
   "outputs": [],
   "source": [
    "joined_dataset7 = joined_dataset6.copy()\n",
    "joined_dataset7['Gender'] = joined_dataset6['Gender'].replace([1, 2],['Male', 'Female'])\n",
    "joined_dataset7['Race'] = joined_dataset6['Race'].replace([1, 2, 3, 4, 5],['Mexican American', 'Other Hispanic', 'Non-Hispanic White', 'Non-Hispanic Black', 'Other Race'])\n",
    "joined_dataset7['CountryOfBirth'] = joined_dataset6['CountryOfBirth'].replace([1, 2],['U.S.A.', 'Other'])\n",
    "joined_dataset7['CitizenshipStatus'] = joined_dataset6['CitizenshipStatus'].replace([1, 2],['Citizen', 'Non-Citizen'])\n",
    "joined_dataset7['hasHeartDisease'] = joined_dataset6['hasHeartDisease'].replace([1, 2],['Yes', 'No'])"
   ]
  },
  {
   "cell_type": "markdown",
   "id": "c5cbf7a8",
   "metadata": {},
   "source": [
    "After this we can see that the dataset is much cleaner now, with no more missing or strange values, and we are finally ready to explore some feature correlations and do some more exploratory data analysis. Looking at the info for the dataset, we can see that there are 9 numerical variables and 4 categorical variables. We will start by plotting boxplots for all the numerical variables"
   ]
  },
  {
   "cell_type": "code",
   "execution_count": 41,
   "id": "ef79aa9d",
   "metadata": {},
   "outputs": [
    {
     "data": {
      "image/png": "[encoded data removed]",
      "text/plain": [
       "<Figure size 1584x1800 with 9 Axes>"
      ]
     },
     "metadata": {
      "needs_background": "light"
     },
     "output_type": "display_data"
    }
   ],
   "source": [
    "numerical = ['Weight', 'Height', 'BMI', 'diastolic_avg', 'systolic_avg', 'pulse_rate_BPM', 'Age',\n",
    "        'FamilySize', 'FamilyIncomePovertyRatio']\n",
    "\n",
    "categorical = ['Gender', 'Race', 'CountryOfBirth', 'CitizenshipStatus']\n",
    "    \n",
    "titles = ['Counts of Gender Categories', 'Counts of Race Categories', 'Counts of Country of Birth Categories', 'Counts of Citizenship Status Categories']\n",
    "i = 0\n",
    "# fig, ax = plt.subplots(3, 3, figsize=(22, 18))\n",
    "\n",
    "# for variable in numerical:\n",
    "#     axes = plt.hist()\n",
    "#     axes = joined_dataset7[variable].hist(bins=15, figsize=(15, 10), layout=(3, 3));\n",
    "#     axes.set_title(titles[i], size=18)\n",
    "#     axes.set_xlabel(variable, size = 15)\n",
    "#     axes.set_ylabel(\"Count\", size = 15)\n",
    "    \n",
    "\n",
    "titles = ['Distribution of Weight (kg)', \n",
    "          'Distribution of Height (cm)',\n",
    "          'Distribution of BMI',\n",
    "          'Distribution of Average Diastolic Pressure (mmHg)',\n",
    "          'Distribution of Average Systolic Pressure (mmHg)',\n",
    "          'Distribution of Pulse Rate (BPM)',\n",
    "          'Distribution of Age (Years)',\n",
    "          'Distribution of Family Size',\n",
    "          'Distribution of Family Income Poverty Ratio']\n",
    "x_labels = ['Weight (kg)', 'Height (cm)', 'BMI', 'Average Diastolic Pressure (mmHg)', \n",
    "            'Average Systolic Pressure (mmHg)', 'Pulse Rate (BPM)', 'Age (Years)', 'Family Size', 'Family Income Poverty Ratio']\n",
    "i = 0\n",
    "fig, ax = plt.subplots(3, 3, figsize=(22, 25))\n",
    "for variable, subplot in zip(numerical, ax.flatten()):\n",
    "    axes = sns.histplot(x=joined_dataset7[variable], ax=subplot)\n",
    "    axes.set_title(titles[i], size=18)\n",
    "    axes.set_xlabel(x_labels[i], size = 15)\n",
    "    axes.set_ylabel(\"Count\", size = 15)\n",
    "    i = i + 1\n",
    "    for label in subplot.get_xticklabels():\n",
    "        label.set_rotation(0)"
   ]
  },
  {
   "cell_type": "markdown",
   "id": "978a6138",
   "metadata": {},
   "source": [
    "There are a lot of valuable insights contained in this data here, and we will briefly comment on each graph in turn. The 'Weight' graph follows a fairly normal distribution with a right skew, and looks standard. We can see that the 'Height' graph follows a very good normal distribution with no skew at all. The BMI skews to the right once again, with a normal looking distribution, and this makes sense, as it is simply made up of the height and weight variables, of which 'Weight' itself has the same skew. All the heart related variables look fairly normal. The 'Age' graph is interesting, showing that the participants are relatively uniformly selected from all age groups, although there are significantly more 60-64 and 76-80 year olds in the data. Family size shows us that most people only live with one other person, and the family income poverty ratio has a spike at the end as well. This is because values greater than 5 were coded as 5 for the purpose of preserving anonymity, so this is something to be aware of."
   ]
  },
  {
   "cell_type": "markdown",
   "id": "1f21ff0f",
   "metadata": {},
   "source": [
    "Next we can analyse the categorical variables"
   ]
  },
  {
   "cell_type": "code",
   "execution_count": 42,
   "id": "2e0bbd2f",
   "metadata": {},
   "outputs": [
    {
     "name": "stdout",
     "output_type": "stream",
     "text": [
      "Types of 'Gender'\n",
      "Female    1972\n",
      "Male      1878\n",
      "Name: Gender, dtype: int64\n",
      "=======\n",
      "Types of 'Race'\n",
      "Non-Hispanic White    1419\n",
      "Non-Hispanic Black     863\n",
      "Other Race             760\n",
      "Mexican American       481\n",
      "Other Hispanic         327\n",
      "Name: Race, dtype: int64\n",
      "=======\n",
      "Types of 'CountryOfBirth'\n",
      "U.S.A.    2720\n",
      "Other     1130\n",
      "Name: CountryOfBirth, dtype: int64\n",
      "=======\n",
      "Types of 'CitizenshipStatus'\n",
      "Citizen        3368\n",
      "Non-Citizen     482\n",
      "Name: CitizenshipStatus, dtype: int64\n",
      "=======\n"
     ]
    }
   ],
   "source": [
    "print(\"Types of 'Gender'\")\n",
    "print(joined_dataset7[\"Gender\"].value_counts())\n",
    "print(\"=======\")\n",
    "print(\"Types of 'Race'\")\n",
    "print(joined_dataset7[\"Race\"].value_counts())\n",
    "print(\"=======\")\n",
    "print(\"Types of 'CountryOfBirth'\")\n",
    "print(joined_dataset7[\"CountryOfBirth\"].value_counts())\n",
    "print(\"=======\")\n",
    "print(\"Types of 'CitizenshipStatus'\")\n",
    "print(joined_dataset7[\"CitizenshipStatus\"].value_counts())\n",
    "print(\"=======\")"
   ]
  },
  {
   "cell_type": "markdown",
   "id": "c55419f0",
   "metadata": {},
   "source": [
    "As we saw earlier, we have six categorical columns with three being binary, 'Race' having 5 categories, and the remaining two having 12 categories each"
   ]
  },
  {
   "cell_type": "code",
   "execution_count": 43,
   "id": "640559f7",
   "metadata": {
    "scrolled": false
   },
   "outputs": [
    {
     "data": {
      "image/png": "[encoded data removed]",
      "text/plain": [
       "<Figure size 1584x1296 with 4 Axes>"
      ]
     },
     "metadata": {
      "needs_background": "light"
     },
     "output_type": "display_data"
    }
   ],
   "source": [
    "titles = ['Counts of Gender Categories', 'Counts of Race Categories', 'Counts of Country of Birth Categories', 'Counts of Citizenship Status Categories']\n",
    "x_labels = ['Gender', 'Race', 'Country of Birth', 'Citizenship Status']\n",
    "i = 0\n",
    "fig, ax = plt.subplots(2, 2, figsize=(22, 18))\n",
    "for variable, subplot in zip(categorical, ax.flatten()):\n",
    "    axes = sns.countplot(x=joined_dataset7[variable], ax=subplot)\n",
    "    axes.set_title(titles[i], size=18)\n",
    "    axes.set_xlabel(x_labels[i], size = 15)\n",
    "    axes.set_ylabel(\"Count\", size = 15)\n",
    "    i = i + 1\n",
    "    for label in subplot.get_xticklabels():\n",
    "        label.set_rotation(0)"
   ]
  },
  {
   "cell_type": "markdown",
   "id": "a774d328",
   "metadata": {},
   "source": [
    "The gender looks fairly evenly split, with slightly more women than men taking part in the survey. We can see on the race graph that Non-Hispanic Whites (Category 3) make up the largest section of the survey, with Mexican Americans (1) and Other Hispanic (2) making up the smallest respective parts of the survey response group. The vast majority of those surveyed were born in the U.S.A., and an even larger proportion are U.S. citizens, suggesting that some of the people born in different countries gained U.S. citizenship"
   ]
  },
  {
   "cell_type": "code",
   "execution_count": 46,
   "id": "3c8752c4",
   "metadata": {
    "scrolled": false
   },
   "outputs": [
    {
     "data": {
      "image/png": "[encoded data removed]",
      "text/plain": [
       "<Figure size 1440x2880 with 10 Axes>"
      ]
     },
     "metadata": {
      "needs_background": "light"
     },
     "output_type": "display_data"
    }
   ],
   "source": [
    "titles = ['Distribution of Weight by Incidence of Heart Disease', \n",
    "          'Distribution of Height by Incidence of Heart Disease',\n",
    "          'Distribution of BMI by Incidence of Heart Disease',\n",
    "          'Distribution of Average Diastolic Pressure by Incidence of Heart Disease',\n",
    "          'Distribution of Average Systolic Pressure by Incidence of Heart Disease',\n",
    "          'Distribution of Pulse Rate (BPM) by Incidence of Heart Disease',\n",
    "          'Distribution of Age by Incidence of Heart Disease',\n",
    "          'Distribution of Family Size by Incidence of Heart Disease',\n",
    "          'Distribution of Family Income Poverty Ratio by Incidence of Heart Disease']\n",
    "y_labels = ['Weight (kg)', 'Height (cm)', 'BMI', 'Average Diastolic Pressure (mmHg)', \n",
    "            'Average Systolic Pressure (mmHg)', 'Pulse Rate (BPM)', 'Age (Years)', 'Family Size', 'Family Income Poverty Ratio']\n",
    "i = 0\n",
    "fig, ax = plt.subplots(5, 2, figsize=(20, 40))\n",
    "for var, subplot in zip(numerical, ax.flatten()):\n",
    "    axes = sns.boxplot(x='hasHeartDisease', y=var, data=joined_dataset7, ax=subplot)\n",
    "    axes.set_title(titles[i], size=18, wrap = True)\n",
    "    axes.set_xlabel('Has Heart Disease', size = 15)\n",
    "    axes.set_ylabel(y_labels[i], size = 15)\n",
    "    i = i + 1\n",
    "    "
   ]
  },
  {
   "cell_type": "markdown",
   "id": "11441e12",
   "metadata": {},
   "source": [
    "Here is the really interesting data, comparing the numerical categories against whether or not the person has been diagnosed with heart disease, with 1 representing yes and 2 representing no. Straight away we can see that the largest difference in the means of the boxplots comes from the 'Age' variable, with older people being significantly more likely to have heart disease. There are several other variables with differences, for instance 'Family Size'. This shows that people with lower family sizes are more likely to have heart disease. This is interesting, but correlation does not equal causation, so we cannot make inferences into this. Also people with lower annual household income appear to have a higher chance of having heart disease."
   ]
  },
  {
   "cell_type": "markdown",
   "id": "7093bdef",
   "metadata": {},
   "source": [
    "Plotting categorical variables against 'hasHeartDisease'"
   ]
  },
  {
   "cell_type": "code",
   "execution_count": 47,
   "id": "ebda5500",
   "metadata": {
    "scrolled": false
   },
   "outputs": [
    {
     "data": {
      "image/png": "[encoded data removed]",
      "text/plain": [
       "<Figure size 720x2160 with 4 Axes>"
      ]
     },
     "metadata": {
      "needs_background": "light"
     },
     "output_type": "display_data"
    }
   ],
   "source": [
    "titles = ['Percentage Breakdown of Gender Categories by Heart Disease', \n",
    "          'Percentage Breakdown of Race Categories by Heart Disease',\n",
    "          'Percentage Breakdown of Country of Birth Categories by Heart Disease', \n",
    "          'Percentage Breakdown of Citizenship Categories by Heart Disease']\n",
    "x_labels = ['Gender', 'Race', 'Country of Birth', 'Citizenship Status']\n",
    "i = 0\n",
    "fig, ax = plt.subplots(4, 1, figsize=(10, 30))\n",
    "y = 'hasHeartDisease'\n",
    "for variable, subplot in zip(categorical, ax.flatten()):\n",
    "    x = variable\n",
    "    (joined_dataset7\n",
    "    .groupby(x)[y]\n",
    "    .value_counts(normalize=True)\n",
    "    .mul(100)\n",
    "    .rename('percent')\n",
    "    .reset_index()\n",
    "    .pipe((sns.barplot,'data'), x=x,y='percent',hue=y, ax=subplot))  \n",
    "    subplot.set_title(titles[i], size=18, wrap = True)\n",
    "    subplot.set_xlabel(x_labels[i], size = 15)\n",
    "    subplot.set_ylabel(\"Percentage\", size = 15)\n",
    "    i = i + 1\n",
    "    for label in subplot.get_xticklabels():\n",
    "        label.set_rotation(0)"
   ]
  },
  {
   "cell_type": "markdown",
   "id": "48c7566a",
   "metadata": {},
   "source": [
    "Note that I have adjusted for actual counts by plotting percentage values. From this we can see that a larger percentage of men have heart disease than women, and heart disease is most common in Non-Hispanic Whites than it is in other races. Also it appears that people born in the U.S.A. and those who are citizens are more likely to have heart disease, although this could just be because the citizens and white people are more likely to go to doctors as they have higher incomes"
   ]
  },
  {
   "cell_type": "markdown",
   "id": "d8cd991e",
   "metadata": {},
   "source": [
    "Next we will resolve the class imbalance, by first oversampling the minority class and then undersampling the majority class"
   ]
  },
  {
   "cell_type": "markdown",
   "id": "3bade58a",
   "metadata": {},
   "source": [
    "In order to do the oversampling, we need to point out which columns are actually categorical, otherwise the SMOTE will add new categories. We do this by providing a list of indexes, so we will take another look at the info"
   ]
  },
  {
   "cell_type": "code",
   "execution_count": 48,
   "id": "7b2e8d11",
   "metadata": {},
   "outputs": [
    {
     "name": "stdout",
     "output_type": "stream",
     "text": [
      "<class 'pandas.core.frame.DataFrame'>\n",
      "Int64Index: 3850 entries, 6 to 8365\n",
      "Data columns (total 14 columns):\n",
      " #   Column                    Non-Null Count  Dtype  \n",
      "---  ------                    --------------  -----  \n",
      " 0   Weight                    3850 non-null   float64\n",
      " 1   Height                    3850 non-null   float64\n",
      " 2   BMI                       3850 non-null   float64\n",
      " 3   diastolic_avg             3850 non-null   float64\n",
      " 4   systolic_avg              3850 non-null   float64\n",
      " 5   pulse_rate_BPM            3850 non-null   float64\n",
      " 6   Gender                    3850 non-null   object \n",
      " 7   Age                       3850 non-null   float64\n",
      " 8   Race                      3850 non-null   object \n",
      " 9   CountryOfBirth            3850 non-null   object \n",
      " 10  CitizenshipStatus         3850 non-null   object \n",
      " 11  FamilySize                3850 non-null   float64\n",
      " 12  FamilyIncomePovertyRatio  3850 non-null   float64\n",
      " 13  hasHeartDisease           3850 non-null   object \n",
      "dtypes: float64(9), object(5)\n",
      "memory usage: 580.2+ KB\n"
     ]
    },
    {
     "data": {
      "text/html": [
       "<div>\n",
       "<style scoped>\n",
       "    .dataframe tbody tr th:only-of-type {\n",
       "        vertical-align: middle;\n",
       "    }\n",
       "\n",
       "    .dataframe tbody tr th {\n",
       "        vertical-align: top;\n",
       "    }\n",
       "\n",
       "    .dataframe thead th {\n",
       "        text-align: right;\n",
       "    }\n",
       "</style>\n",
       "<table border=\"1\" class=\"dataframe\">\n",
       "  <thead>\n",
       "    <tr style=\"text-align: right;\">\n",
       "      <th></th>\n",
       "      <th>Weight</th>\n",
       "      <th>Height</th>\n",
       "      <th>BMI</th>\n",
       "      <th>diastolic_avg</th>\n",
       "      <th>systolic_avg</th>\n",
       "      <th>pulse_rate_BPM</th>\n",
       "      <th>Gender</th>\n",
       "      <th>Age</th>\n",
       "      <th>Race</th>\n",
       "      <th>CountryOfBirth</th>\n",
       "      <th>CitizenshipStatus</th>\n",
       "      <th>FamilySize</th>\n",
       "      <th>FamilyIncomePovertyRatio</th>\n",
       "      <th>hasHeartDisease</th>\n",
       "    </tr>\n",
       "  </thead>\n",
       "  <tbody>\n",
       "    <tr>\n",
       "      <th>6</th>\n",
       "      <td>88.8</td>\n",
       "      <td>151.1</td>\n",
       "      <td>38.9</td>\n",
       "      <td>66.666667</td>\n",
       "      <td>118.666667</td>\n",
       "      <td>74.0</td>\n",
       "      <td>Female</td>\n",
       "      <td>75.0</td>\n",
       "      <td>Non-Hispanic Black</td>\n",
       "      <td>U.S.A.</td>\n",
       "      <td>Citizen</td>\n",
       "      <td>1.0</td>\n",
       "      <td>0.41</td>\n",
       "      <td>No</td>\n",
       "    </tr>\n",
       "    <tr>\n",
       "      <th>7</th>\n",
       "      <td>62.1</td>\n",
       "      <td>170.6</td>\n",
       "      <td>21.3</td>\n",
       "      <td>66.666667</td>\n",
       "      <td>101.333333</td>\n",
       "      <td>62.0</td>\n",
       "      <td>Male</td>\n",
       "      <td>56.0</td>\n",
       "      <td>Other Race</td>\n",
       "      <td>Other</td>\n",
       "      <td>Citizen</td>\n",
       "      <td>3.0</td>\n",
       "      <td>5.00</td>\n",
       "      <td>No</td>\n",
       "    </tr>\n",
       "    <tr>\n",
       "      <th>9</th>\n",
       "      <td>74.9</td>\n",
       "      <td>178.6</td>\n",
       "      <td>23.5</td>\n",
       "      <td>72.000000</td>\n",
       "      <td>104.666667</td>\n",
       "      <td>90.0</td>\n",
       "      <td>Male</td>\n",
       "      <td>67.0</td>\n",
       "      <td>Non-Hispanic White</td>\n",
       "      <td>U.S.A.</td>\n",
       "      <td>Citizen</td>\n",
       "      <td>1.0</td>\n",
       "      <td>2.65</td>\n",
       "      <td>No</td>\n",
       "    </tr>\n",
       "    <tr>\n",
       "      <th>11</th>\n",
       "      <td>65.6</td>\n",
       "      <td>170.6</td>\n",
       "      <td>22.5</td>\n",
       "      <td>59.333333</td>\n",
       "      <td>114.000000</td>\n",
       "      <td>66.0</td>\n",
       "      <td>Male</td>\n",
       "      <td>71.0</td>\n",
       "      <td>Other Race</td>\n",
       "      <td>U.S.A.</td>\n",
       "      <td>Citizen</td>\n",
       "      <td>5.0</td>\n",
       "      <td>1.56</td>\n",
       "      <td>No</td>\n",
       "    </tr>\n",
       "    <tr>\n",
       "      <th>12</th>\n",
       "      <td>77.7</td>\n",
       "      <td>159.2</td>\n",
       "      <td>30.7</td>\n",
       "      <td>72.000000</td>\n",
       "      <td>120.666667</td>\n",
       "      <td>58.0</td>\n",
       "      <td>Male</td>\n",
       "      <td>61.0</td>\n",
       "      <td>Other Race</td>\n",
       "      <td>Other</td>\n",
       "      <td>Citizen</td>\n",
       "      <td>3.0</td>\n",
       "      <td>5.00</td>\n",
       "      <td>No</td>\n",
       "    </tr>\n",
       "  </tbody>\n",
       "</table>\n",
       "</div>"
      ],
      "text/plain": [
       "    Weight  Height   BMI  diastolic_avg  systolic_avg  pulse_rate_BPM  Gender  \\\n",
       "6     88.8   151.1  38.9      66.666667    118.666667            74.0  Female   \n",
       "7     62.1   170.6  21.3      66.666667    101.333333            62.0    Male   \n",
       "9     74.9   178.6  23.5      72.000000    104.666667            90.0    Male   \n",
       "11    65.6   170.6  22.5      59.333333    114.000000            66.0    Male   \n",
       "12    77.7   159.2  30.7      72.000000    120.666667            58.0    Male   \n",
       "\n",
       "     Age                Race CountryOfBirth CitizenshipStatus  FamilySize  \\\n",
       "6   75.0  Non-Hispanic Black         U.S.A.           Citizen         1.0   \n",
       "7   56.0          Other Race          Other           Citizen         3.0   \n",
       "9   67.0  Non-Hispanic White         U.S.A.           Citizen         1.0   \n",
       "11  71.0          Other Race         U.S.A.           Citizen         5.0   \n",
       "12  61.0          Other Race          Other           Citizen         3.0   \n",
       "\n",
       "    FamilyIncomePovertyRatio hasHeartDisease  \n",
       "6                       0.41              No  \n",
       "7                       5.00              No  \n",
       "9                       2.65              No  \n",
       "11                      1.56              No  \n",
       "12                      5.00              No  "
      ]
     },
     "execution_count": 48,
     "metadata": {},
     "output_type": "execute_result"
    }
   ],
   "source": [
    "joined_dataset7.info()\n",
    "joined_dataset7.head()"
   ]
  },
  {
   "cell_type": "code",
   "execution_count": 53,
   "id": "e14de3d3",
   "metadata": {},
   "outputs": [
    {
     "name": "stdout",
     "output_type": "stream",
     "text": [
      "{0 : 2752}\n",
      "{1 : 1101}\n",
      "<class 'pandas.core.frame.DataFrame'>\n",
      "RangeIndex: 3853 entries, 0 to 3852\n",
      "Data columns (total 14 columns):\n",
      " #   Column                    Non-Null Count  Dtype  \n",
      "---  ------                    --------------  -----  \n",
      " 0   Weight                    3853 non-null   float64\n",
      " 1   Height                    3853 non-null   float64\n",
      " 2   BMI                       3853 non-null   float64\n",
      " 3   diastolic_avg             3853 non-null   float64\n",
      " 4   systolic_avg              3853 non-null   float64\n",
      " 5   pulse_rate_BPM            3853 non-null   float64\n",
      " 6   Gender                    3853 non-null   object \n",
      " 7   Age                       3853 non-null   float64\n",
      " 8   Race                      3853 non-null   object \n",
      " 9   CountryOfBirth            3853 non-null   object \n",
      " 10  CitizenshipStatus         3853 non-null   object \n",
      " 11  FamilySize                3853 non-null   float64\n",
      " 12  FamilyIncomePovertyRatio  3853 non-null   float64\n",
      " 13  hasHeartDisease           3853 non-null   int64  \n",
      "dtypes: float64(9), int64(1), object(4)\n",
      "memory usage: 421.5+ KB\n"
     ]
    }
   ],
   "source": [
    "joined_dataset8 = joined_dataset7.copy()\n",
    "joined_dataset8['hasHeartDisease'] = joined_dataset7['hasHeartDisease'].replace(['Yes', 'No'], [1, 0])\n",
    "\n",
    "X = joined_dataset8.drop(\"hasHeartDisease\", axis=1) # drop labels\n",
    "y = joined_dataset8[\"hasHeartDisease\"].copy() # save the labels\n",
    "\n",
    "over = SMOTENC(categorical_features=[6, 8, 9, 10, ], random_state=0, sampling_strategy=0.3)\n",
    "\n",
    "under = RandomUnderSampler(sampling_strategy=0.4)\n",
    "\n",
    "steps = [('o', over), ('u', under)]\n",
    "\n",
    "pipe = Pipeline(steps=steps)\n",
    "\n",
    "X, y = pipe.fit_resample(X, y)\n",
    "\n",
    "for c in np.unique(y):\n",
    "    print('{%d : %d}' % (c, sum(y==c)))\n",
    "\n",
    "\n",
    "#Merge them back together\n",
    "balanced_dataset = X.copy()\n",
    "balanced_dataset['hasHeartDisease'] = y\n",
    "balanced_dataset.info()"
   ]
  },
  {
   "cell_type": "markdown",
   "id": "70d51f1b",
   "metadata": {},
   "source": [
    "Now we are finally ready to perform some machine learning on the data. For this dataset, we will use logistic regression with l1 regularization in order to determine the importance of the features. However we need to do some encoding as part of this process, normalising the numerical data and one-hot encoding the categorical data. Note that none of the categorical data is ordinal, so there is no need to use ordinal encoding on any of it\n"
   ]
  },
  {
   "cell_type": "markdown",
   "id": "7eeb5c8f",
   "metadata": {},
   "source": [
    "<b> We will now take the data in split it into both a training and a test set, with the split being an 80:20 split respectively with a random state of 0</b>"
   ]
  },
  {
   "cell_type": "code",
   "execution_count": 54,
   "id": "b765bf11",
   "metadata": {},
   "outputs": [],
   "source": [
    "train_set, test_set = train_test_split(balanced_dataset, test_size=0.2, random_state=0)"
   ]
  },
  {
   "cell_type": "code",
   "execution_count": 55,
   "id": "a41ac9c6",
   "metadata": {},
   "outputs": [
    {
     "data": {
      "text/html": [
       "<div>\n",
       "<style scoped>\n",
       "    .dataframe tbody tr th:only-of-type {\n",
       "        vertical-align: middle;\n",
       "    }\n",
       "\n",
       "    .dataframe tbody tr th {\n",
       "        vertical-align: top;\n",
       "    }\n",
       "\n",
       "    .dataframe thead th {\n",
       "        text-align: right;\n",
       "    }\n",
       "</style>\n",
       "<table border=\"1\" class=\"dataframe\">\n",
       "  <thead>\n",
       "    <tr style=\"text-align: right;\">\n",
       "      <th></th>\n",
       "      <th>Weight</th>\n",
       "      <th>Height</th>\n",
       "      <th>BMI</th>\n",
       "      <th>diastolic_avg</th>\n",
       "      <th>systolic_avg</th>\n",
       "      <th>pulse_rate_BPM</th>\n",
       "      <th>Gender</th>\n",
       "      <th>Age</th>\n",
       "      <th>Race</th>\n",
       "      <th>CountryOfBirth</th>\n",
       "      <th>CitizenshipStatus</th>\n",
       "      <th>FamilySize</th>\n",
       "      <th>FamilyIncomePovertyRatio</th>\n",
       "      <th>hasHeartDisease</th>\n",
       "    </tr>\n",
       "  </thead>\n",
       "  <tbody>\n",
       "    <tr>\n",
       "      <th>1397</th>\n",
       "      <td>98.8</td>\n",
       "      <td>156.4</td>\n",
       "      <td>40.4</td>\n",
       "      <td>63.333333</td>\n",
       "      <td>131.333333</td>\n",
       "      <td>68.0</td>\n",
       "      <td>Female</td>\n",
       "      <td>80.0</td>\n",
       "      <td>Non-Hispanic White</td>\n",
       "      <td>U.S.A.</td>\n",
       "      <td>Citizen</td>\n",
       "      <td>2.0</td>\n",
       "      <td>1.79</td>\n",
       "      <td>0</td>\n",
       "    </tr>\n",
       "    <tr>\n",
       "      <th>338</th>\n",
       "      <td>75.3</td>\n",
       "      <td>181.0</td>\n",
       "      <td>23.0</td>\n",
       "      <td>94.666667</td>\n",
       "      <td>142.000000</td>\n",
       "      <td>88.0</td>\n",
       "      <td>Male</td>\n",
       "      <td>39.0</td>\n",
       "      <td>Non-Hispanic White</td>\n",
       "      <td>U.S.A.</td>\n",
       "      <td>Citizen</td>\n",
       "      <td>3.0</td>\n",
       "      <td>0.79</td>\n",
       "      <td>0</td>\n",
       "    </tr>\n",
       "    <tr>\n",
       "      <th>483</th>\n",
       "      <td>67.0</td>\n",
       "      <td>165.9</td>\n",
       "      <td>24.3</td>\n",
       "      <td>83.333333</td>\n",
       "      <td>136.666667</td>\n",
       "      <td>64.0</td>\n",
       "      <td>Male</td>\n",
       "      <td>58.0</td>\n",
       "      <td>Other Race</td>\n",
       "      <td>Other</td>\n",
       "      <td>Citizen</td>\n",
       "      <td>3.0</td>\n",
       "      <td>5.00</td>\n",
       "      <td>0</td>\n",
       "    </tr>\n",
       "    <tr>\n",
       "      <th>2876</th>\n",
       "      <td>78.5</td>\n",
       "      <td>164.5</td>\n",
       "      <td>29.0</td>\n",
       "      <td>70.666667</td>\n",
       "      <td>140.666667</td>\n",
       "      <td>76.0</td>\n",
       "      <td>Male</td>\n",
       "      <td>80.0</td>\n",
       "      <td>Non-Hispanic White</td>\n",
       "      <td>U.S.A.</td>\n",
       "      <td>Citizen</td>\n",
       "      <td>2.0</td>\n",
       "      <td>2.46</td>\n",
       "      <td>1</td>\n",
       "    </tr>\n",
       "    <tr>\n",
       "      <th>1819</th>\n",
       "      <td>78.9</td>\n",
       "      <td>170.9</td>\n",
       "      <td>27.0</td>\n",
       "      <td>71.333333</td>\n",
       "      <td>110.666667</td>\n",
       "      <td>106.0</td>\n",
       "      <td>Female</td>\n",
       "      <td>49.0</td>\n",
       "      <td>Non-Hispanic White</td>\n",
       "      <td>U.S.A.</td>\n",
       "      <td>Citizen</td>\n",
       "      <td>4.0</td>\n",
       "      <td>1.83</td>\n",
       "      <td>0</td>\n",
       "    </tr>\n",
       "  </tbody>\n",
       "</table>\n",
       "</div>"
      ],
      "text/plain": [
       "      Weight  Height   BMI  diastolic_avg  systolic_avg  pulse_rate_BPM  \\\n",
       "1397    98.8   156.4  40.4      63.333333    131.333333            68.0   \n",
       "338     75.3   181.0  23.0      94.666667    142.000000            88.0   \n",
       "483     67.0   165.9  24.3      83.333333    136.666667            64.0   \n",
       "2876    78.5   164.5  29.0      70.666667    140.666667            76.0   \n",
       "1819    78.9   170.9  27.0      71.333333    110.666667           106.0   \n",
       "\n",
       "      Gender   Age                Race CountryOfBirth CitizenshipStatus  \\\n",
       "1397  Female  80.0  Non-Hispanic White         U.S.A.           Citizen   \n",
       "338     Male  39.0  Non-Hispanic White         U.S.A.           Citizen   \n",
       "483     Male  58.0          Other Race          Other           Citizen   \n",
       "2876    Male  80.0  Non-Hispanic White         U.S.A.           Citizen   \n",
       "1819  Female  49.0  Non-Hispanic White         U.S.A.           Citizen   \n",
       "\n",
       "      FamilySize  FamilyIncomePovertyRatio  hasHeartDisease  \n",
       "1397         2.0                      1.79                0  \n",
       "338          3.0                      0.79                0  \n",
       "483          3.0                      5.00                0  \n",
       "2876         2.0                      2.46                1  \n",
       "1819         4.0                      1.83                0  "
      ]
     },
     "execution_count": 55,
     "metadata": {},
     "output_type": "execute_result"
    }
   ],
   "source": [
    "train_set.head()"
   ]
  },
  {
   "cell_type": "code",
   "execution_count": 56,
   "id": "8ed1627c",
   "metadata": {},
   "outputs": [
    {
     "data": {
      "text/html": [
       "<div>\n",
       "<style scoped>\n",
       "    .dataframe tbody tr th:only-of-type {\n",
       "        vertical-align: middle;\n",
       "    }\n",
       "\n",
       "    .dataframe tbody tr th {\n",
       "        vertical-align: top;\n",
       "    }\n",
       "\n",
       "    .dataframe thead th {\n",
       "        text-align: right;\n",
       "    }\n",
       "</style>\n",
       "<table border=\"1\" class=\"dataframe\">\n",
       "  <thead>\n",
       "    <tr style=\"text-align: right;\">\n",
       "      <th></th>\n",
       "      <th>Weight</th>\n",
       "      <th>Height</th>\n",
       "      <th>BMI</th>\n",
       "      <th>diastolic_avg</th>\n",
       "      <th>systolic_avg</th>\n",
       "      <th>pulse_rate_BPM</th>\n",
       "      <th>Gender</th>\n",
       "      <th>Age</th>\n",
       "      <th>Race</th>\n",
       "      <th>CountryOfBirth</th>\n",
       "      <th>CitizenshipStatus</th>\n",
       "      <th>FamilySize</th>\n",
       "      <th>FamilyIncomePovertyRatio</th>\n",
       "      <th>hasHeartDisease</th>\n",
       "    </tr>\n",
       "  </thead>\n",
       "  <tbody>\n",
       "    <tr>\n",
       "      <th>3183</th>\n",
       "      <td>158.240931</td>\n",
       "      <td>177.493572</td>\n",
       "      <td>50.333873</td>\n",
       "      <td>70.333858</td>\n",
       "      <td>110.999475</td>\n",
       "      <td>79.772083</td>\n",
       "      <td>Male</td>\n",
       "      <td>36.205440</td>\n",
       "      <td>Non-Hispanic White</td>\n",
       "      <td>U.S.A.</td>\n",
       "      <td>Citizen</td>\n",
       "      <td>3.0</td>\n",
       "      <td>0.832938</td>\n",
       "      <td>1</td>\n",
       "    </tr>\n",
       "    <tr>\n",
       "      <th>3699</th>\n",
       "      <td>90.081474</td>\n",
       "      <td>164.309263</td>\n",
       "      <td>33.377079</td>\n",
       "      <td>50.948538</td>\n",
       "      <td>100.525731</td>\n",
       "      <td>75.030877</td>\n",
       "      <td>Male</td>\n",
       "      <td>67.273158</td>\n",
       "      <td>Non-Hispanic White</td>\n",
       "      <td>U.S.A.</td>\n",
       "      <td>Citizen</td>\n",
       "      <td>1.0</td>\n",
       "      <td>1.430225</td>\n",
       "      <td>1</td>\n",
       "    </tr>\n",
       "    <tr>\n",
       "      <th>1703</th>\n",
       "      <td>90.200000</td>\n",
       "      <td>167.800000</td>\n",
       "      <td>32.000000</td>\n",
       "      <td>103.333333</td>\n",
       "      <td>157.333333</td>\n",
       "      <td>70.000000</td>\n",
       "      <td>Male</td>\n",
       "      <td>41.000000</td>\n",
       "      <td>Other Hispanic</td>\n",
       "      <td>U.S.A.</td>\n",
       "      <td>Citizen</td>\n",
       "      <td>2.0</td>\n",
       "      <td>5.000000</td>\n",
       "      <td>0</td>\n",
       "    </tr>\n",
       "    <tr>\n",
       "      <th>2821</th>\n",
       "      <td>77.900000</td>\n",
       "      <td>175.000000</td>\n",
       "      <td>25.400000</td>\n",
       "      <td>86.666667</td>\n",
       "      <td>122.000000</td>\n",
       "      <td>84.000000</td>\n",
       "      <td>Male</td>\n",
       "      <td>49.000000</td>\n",
       "      <td>Non-Hispanic White</td>\n",
       "      <td>U.S.A.</td>\n",
       "      <td>Citizen</td>\n",
       "      <td>7.0</td>\n",
       "      <td>1.190000</td>\n",
       "      <td>1</td>\n",
       "    </tr>\n",
       "    <tr>\n",
       "      <th>1051</th>\n",
       "      <td>75.000000</td>\n",
       "      <td>173.100000</td>\n",
       "      <td>25.000000</td>\n",
       "      <td>82.000000</td>\n",
       "      <td>118.666667</td>\n",
       "      <td>46.000000</td>\n",
       "      <td>Male</td>\n",
       "      <td>47.000000</td>\n",
       "      <td>Other Race</td>\n",
       "      <td>Other</td>\n",
       "      <td>Citizen</td>\n",
       "      <td>4.0</td>\n",
       "      <td>3.860000</td>\n",
       "      <td>0</td>\n",
       "    </tr>\n",
       "  </tbody>\n",
       "</table>\n",
       "</div>"
      ],
      "text/plain": [
       "          Weight      Height        BMI  diastolic_avg  systolic_avg  \\\n",
       "3183  158.240931  177.493572  50.333873      70.333858    110.999475   \n",
       "3699   90.081474  164.309263  33.377079      50.948538    100.525731   \n",
       "1703   90.200000  167.800000  32.000000     103.333333    157.333333   \n",
       "2821   77.900000  175.000000  25.400000      86.666667    122.000000   \n",
       "1051   75.000000  173.100000  25.000000      82.000000    118.666667   \n",
       "\n",
       "      pulse_rate_BPM Gender        Age                Race CountryOfBirth  \\\n",
       "3183       79.772083   Male  36.205440  Non-Hispanic White         U.S.A.   \n",
       "3699       75.030877   Male  67.273158  Non-Hispanic White         U.S.A.   \n",
       "1703       70.000000   Male  41.000000      Other Hispanic         U.S.A.   \n",
       "2821       84.000000   Male  49.000000  Non-Hispanic White         U.S.A.   \n",
       "1051       46.000000   Male  47.000000          Other Race          Other   \n",
       "\n",
       "     CitizenshipStatus  FamilySize  FamilyIncomePovertyRatio  hasHeartDisease  \n",
       "3183           Citizen         3.0                  0.832938                1  \n",
       "3699           Citizen         1.0                  1.430225                1  \n",
       "1703           Citizen         2.0                  5.000000                0  \n",
       "2821           Citizen         7.0                  1.190000                1  \n",
       "1051           Citizen         4.0                  3.860000                0  "
      ]
     },
     "execution_count": 56,
     "metadata": {},
     "output_type": "execute_result"
    }
   ],
   "source": [
    "test_set.head()"
   ]
  },
  {
   "cell_type": "markdown",
   "id": "a01864a5",
   "metadata": {},
   "source": [
    "### Preparing the data for machine learning"
   ]
  },
  {
   "cell_type": "markdown",
   "id": "a8a0217c",
   "metadata": {},
   "source": [
    "We will now start to transform the data into the appropriate formats to be used in our model"
   ]
  },
  {
   "cell_type": "markdown",
   "id": "edc66497",
   "metadata": {},
   "source": [
    "The first thing to do is to separate the data into the predictors and the target column (hasHeartDisease)."
   ]
  },
  {
   "cell_type": "code",
   "execution_count": 57,
   "id": "a2ac479c",
   "metadata": {},
   "outputs": [],
   "source": [
    "from sklearn.preprocessing import LabelEncoder\n",
    "X_train = train_set.drop(\"hasHeartDisease\", axis=1) # drop labels for the training set\n",
    "y_train = train_set[\"hasHeartDisease\"].copy() # save the labels"
   ]
  },
  {
   "cell_type": "code",
   "execution_count": 58,
   "id": "72510769",
   "metadata": {},
   "outputs": [
    {
     "data": {
      "text/html": [
       "<div>\n",
       "<style scoped>\n",
       "    .dataframe tbody tr th:only-of-type {\n",
       "        vertical-align: middle;\n",
       "    }\n",
       "\n",
       "    .dataframe tbody tr th {\n",
       "        vertical-align: top;\n",
       "    }\n",
       "\n",
       "    .dataframe thead th {\n",
       "        text-align: right;\n",
       "    }\n",
       "</style>\n",
       "<table border=\"1\" class=\"dataframe\">\n",
       "  <thead>\n",
       "    <tr style=\"text-align: right;\">\n",
       "      <th></th>\n",
       "      <th>Weight</th>\n",
       "      <th>Height</th>\n",
       "      <th>BMI</th>\n",
       "      <th>diastolic_avg</th>\n",
       "      <th>systolic_avg</th>\n",
       "      <th>pulse_rate_BPM</th>\n",
       "      <th>Gender</th>\n",
       "      <th>Age</th>\n",
       "      <th>Race</th>\n",
       "      <th>CountryOfBirth</th>\n",
       "      <th>CitizenshipStatus</th>\n",
       "      <th>FamilySize</th>\n",
       "      <th>FamilyIncomePovertyRatio</th>\n",
       "    </tr>\n",
       "  </thead>\n",
       "  <tbody>\n",
       "    <tr>\n",
       "      <th>1397</th>\n",
       "      <td>98.8</td>\n",
       "      <td>156.4</td>\n",
       "      <td>40.4</td>\n",
       "      <td>63.333333</td>\n",
       "      <td>131.333333</td>\n",
       "      <td>68.0</td>\n",
       "      <td>Female</td>\n",
       "      <td>80.0</td>\n",
       "      <td>Non-Hispanic White</td>\n",
       "      <td>U.S.A.</td>\n",
       "      <td>Citizen</td>\n",
       "      <td>2.0</td>\n",
       "      <td>1.79</td>\n",
       "    </tr>\n",
       "    <tr>\n",
       "      <th>338</th>\n",
       "      <td>75.3</td>\n",
       "      <td>181.0</td>\n",
       "      <td>23.0</td>\n",
       "      <td>94.666667</td>\n",
       "      <td>142.000000</td>\n",
       "      <td>88.0</td>\n",
       "      <td>Male</td>\n",
       "      <td>39.0</td>\n",
       "      <td>Non-Hispanic White</td>\n",
       "      <td>U.S.A.</td>\n",
       "      <td>Citizen</td>\n",
       "      <td>3.0</td>\n",
       "      <td>0.79</td>\n",
       "    </tr>\n",
       "    <tr>\n",
       "      <th>483</th>\n",
       "      <td>67.0</td>\n",
       "      <td>165.9</td>\n",
       "      <td>24.3</td>\n",
       "      <td>83.333333</td>\n",
       "      <td>136.666667</td>\n",
       "      <td>64.0</td>\n",
       "      <td>Male</td>\n",
       "      <td>58.0</td>\n",
       "      <td>Other Race</td>\n",
       "      <td>Other</td>\n",
       "      <td>Citizen</td>\n",
       "      <td>3.0</td>\n",
       "      <td>5.00</td>\n",
       "    </tr>\n",
       "    <tr>\n",
       "      <th>2876</th>\n",
       "      <td>78.5</td>\n",
       "      <td>164.5</td>\n",
       "      <td>29.0</td>\n",
       "      <td>70.666667</td>\n",
       "      <td>140.666667</td>\n",
       "      <td>76.0</td>\n",
       "      <td>Male</td>\n",
       "      <td>80.0</td>\n",
       "      <td>Non-Hispanic White</td>\n",
       "      <td>U.S.A.</td>\n",
       "      <td>Citizen</td>\n",
       "      <td>2.0</td>\n",
       "      <td>2.46</td>\n",
       "    </tr>\n",
       "    <tr>\n",
       "      <th>1819</th>\n",
       "      <td>78.9</td>\n",
       "      <td>170.9</td>\n",
       "      <td>27.0</td>\n",
       "      <td>71.333333</td>\n",
       "      <td>110.666667</td>\n",
       "      <td>106.0</td>\n",
       "      <td>Female</td>\n",
       "      <td>49.0</td>\n",
       "      <td>Non-Hispanic White</td>\n",
       "      <td>U.S.A.</td>\n",
       "      <td>Citizen</td>\n",
       "      <td>4.0</td>\n",
       "      <td>1.83</td>\n",
       "    </tr>\n",
       "  </tbody>\n",
       "</table>\n",
       "</div>"
      ],
      "text/plain": [
       "      Weight  Height   BMI  diastolic_avg  systolic_avg  pulse_rate_BPM  \\\n",
       "1397    98.8   156.4  40.4      63.333333    131.333333            68.0   \n",
       "338     75.3   181.0  23.0      94.666667    142.000000            88.0   \n",
       "483     67.0   165.9  24.3      83.333333    136.666667            64.0   \n",
       "2876    78.5   164.5  29.0      70.666667    140.666667            76.0   \n",
       "1819    78.9   170.9  27.0      71.333333    110.666667           106.0   \n",
       "\n",
       "      Gender   Age                Race CountryOfBirth CitizenshipStatus  \\\n",
       "1397  Female  80.0  Non-Hispanic White         U.S.A.           Citizen   \n",
       "338     Male  39.0  Non-Hispanic White         U.S.A.           Citizen   \n",
       "483     Male  58.0          Other Race          Other           Citizen   \n",
       "2876    Male  80.0  Non-Hispanic White         U.S.A.           Citizen   \n",
       "1819  Female  49.0  Non-Hispanic White         U.S.A.           Citizen   \n",
       "\n",
       "      FamilySize  FamilyIncomePovertyRatio  \n",
       "1397         2.0                      1.79  \n",
       "338          3.0                      0.79  \n",
       "483          3.0                      5.00  \n",
       "2876         2.0                      2.46  \n",
       "1819         4.0                      1.83  "
      ]
     },
     "execution_count": 58,
     "metadata": {},
     "output_type": "execute_result"
    }
   ],
   "source": [
    "X_train.head(5)"
   ]
  },
  {
   "cell_type": "code",
   "execution_count": 59,
   "id": "3831b5e8",
   "metadata": {},
   "outputs": [
    {
     "data": {
      "text/plain": [
       "1397    0\n",
       "338     0\n",
       "483     0\n",
       "2876    1\n",
       "1819    0\n",
       "Name: hasHeartDisease, dtype: int64"
      ]
     },
     "execution_count": 59,
     "metadata": {},
     "output_type": "execute_result"
    }
   ],
   "source": [
    "y_train.head(5)"
   ]
  },
  {
   "cell_type": "markdown",
   "id": "c3e8bc79",
   "metadata": {},
   "source": [
    "Now we will transform all of the categorical data into numerical, and scale all of the numerical data. We do this by first making a transformation pipeline, so that we can then apply this same transformation to the test set later. Note that I have reproduced the numerical and categorical lists here for clarity"
   ]
  },
  {
   "cell_type": "code",
   "execution_count": 60,
   "id": "4dc085b3",
   "metadata": {},
   "outputs": [],
   "source": [
    "numerical_columns = ['Weight', 'Height', 'BMI', 'diastolic_avg', 'systolic_avg', 'pulse_rate_BPM', 'Age',\n",
    "        'FamilySize', 'FamilyIncomePovertyRatio']\n",
    "categorical_columns = ['Gender', 'Race', 'CountryOfBirth', 'CitizenshipStatus']\n",
    "\n",
    "\n",
    "numerical_preprocessor = StandardScaler()\n",
    "categorical_preprocessor = OneHotEncoder(sparse=False, handle_unknown=\"ignore\")\n",
    "preprocessor_v1 = ColumnTransformer([\n",
    "    ('standard-scaler', numerical_preprocessor, numerical_columns),\n",
    "    ('one-hot-encoder', categorical_preprocessor, categorical_columns)\n",
    "])"
   ]
  },
  {
   "cell_type": "markdown",
   "id": "69200bcd",
   "metadata": {},
   "source": [
    "Now we transform the training set"
   ]
  },
  {
   "cell_type": "code",
   "execution_count": 61,
   "id": "24367cc8",
   "metadata": {},
   "outputs": [
    {
     "name": "stdout",
     "output_type": "stream",
     "text": [
      "Shape of prepared data\n",
      "(3082, 20)\n",
      "Shape of original data\n",
      "(3082, 13)\n"
     ]
    }
   ],
   "source": [
    "X_train_prepared = preprocessor_v1.fit_transform(X_train)\n",
    "print(\"Shape of prepared data\")\n",
    "print(X_train_prepared.shape)\n",
    "print(\"Shape of original data\")\n",
    "print(X_train.shape)"
   ]
  },
  {
   "cell_type": "markdown",
   "id": "c1f1abe6",
   "metadata": {},
   "source": [
    "Note that the shape of the array has changed after the pipeline, as it encodes each categorical variable's options as a binary feature, increasing the total number of features to 22"
   ]
  },
  {
   "cell_type": "markdown",
   "id": "6927a1b0",
   "metadata": {},
   "source": [
    "### Training the model"
   ]
  },
  {
   "cell_type": "markdown",
   "id": "2084b70f",
   "metadata": {},
   "source": [
    "Now the data is ready , we can train our model. We will use logistic regression, and tune its hyperparameters"
   ]
  },
  {
   "cell_type": "code",
   "execution_count": 62,
   "id": "c322cbe8",
   "metadata": {},
   "outputs": [
    {
     "name": "stdout",
     "output_type": "stream",
     "text": [
      "Logistic Regression Accuracy:\n",
      "0.8549643088903309\n"
     ]
    }
   ],
   "source": [
    "lr_model_v1 = Pipeline([\n",
    "    ('preprocessor', preprocessor_v1),\n",
    "    ('classifier', LogisticRegression(max_iter=800, penalty='l1', solver='liblinear'))\n",
    "])\n",
    "\n",
    "lr_model_v1.fit(X_train, y_train)\n",
    "y_train_predicted = lr_model_v1.predict(X_train)\n",
    "\n",
    "print(\"Logistic Regression Accuracy:\")\n",
    "print(accuracy_score(y_train, y_train_predicted))"
   ]
  },
  {
   "cell_type": "markdown",
   "id": "e36fb538",
   "metadata": {},
   "source": [
    "An accuracy of 84% is good, and is low enough that the model doesn't appear to be overfitted on the training set"
   ]
  },
  {
   "cell_type": "markdown",
   "id": "899bd99b",
   "metadata": {},
   "source": [
    "We will now use GridSearchCV to find the best hyperparameters for our model, then test it on the test set"
   ]
  },
  {
   "cell_type": "code",
   "execution_count": 63,
   "id": "968f4535",
   "metadata": {
    "scrolled": false
   },
   "outputs": [
    {
     "name": "stdout",
     "output_type": "stream",
     "text": [
      "Logistic Regression Accuracy after Grid Search:\n",
      "0.8559377027903958\n"
     ]
    }
   ],
   "source": [
    "param = {'classifier__C': [10**-3, 10**-2,10**-1,10**0,10**1,10**2, 10**3]}\n",
    "\n",
    "grid_searchLR = GridSearchCV(estimator=lr_model_v1, param_grid=param)\n",
    "\n",
    "\n",
    "grid_searchLR.fit(X_train, y_train)\n",
    "\n",
    "y_train_predicted_GS = grid_searchLR.predict(X_train)\n",
    "\n",
    "print(\"Logistic Regression Accuracy after Grid Search:\")\n",
    "print(accuracy_score(y_train, y_train_predicted_GS))"
   ]
  },
  {
   "cell_type": "markdown",
   "id": "bef4f7c4",
   "metadata": {
    "scrolled": false
   },
   "source": [
    "The model showed no improvement after hyperparameter tuning, suggesting that it was already well tuned. This means that the default value of C is the best one there is"
   ]
  },
  {
   "cell_type": "code",
   "execution_count": 64,
   "id": "4b82921c",
   "metadata": {},
   "outputs": [
    {
     "name": "stdout",
     "output_type": "stream",
     "text": [
      "Logistic Regression best parameters\n",
      "{'classifier__C': 10}\n"
     ]
    }
   ],
   "source": [
    "print(\"Logistic Regression best parameters\")\n",
    "print(grid_searchLR.best_params_)"
   ]
  },
  {
   "cell_type": "markdown",
   "id": "9b7b1da5",
   "metadata": {},
   "source": [
    "We will then take what the best hyperparameters are and use them in our final model on the test set to determine a final accuracy"
   ]
  },
  {
   "cell_type": "code",
   "execution_count": 73,
   "id": "03fafba6",
   "metadata": {},
   "outputs": [
    {
     "name": "stdout",
     "output_type": "stream",
     "text": [
      "Test set AUC:\n",
      "0.909\n",
      "Test set Accuracy:\n",
      "84.6\n"
     ]
    }
   ],
   "source": [
    "final_modelLR = grid_searchLR.best_estimator_\n",
    "\n",
    "X_test = test_set.drop(\"hasHeartDisease\", axis=1)\n",
    "y_test = test_set[\"hasHeartDisease\"].copy()\n",
    "\n",
    "final_predictionsLR = final_modelLR.predict(X_test)\n",
    "final_scoreLR = final_modelLR.predict_proba(X_test)[:,1]\n",
    "\n",
    "print(\"Test set AUC:\")\n",
    "print(round(roc_auc_score(y_test, final_scoreLR), 3))\n",
    "print(\"Test set Accuracy:\")\n",
    "print(100*round(accuracy_score(y_test, final_predictionsLR), 3))"
   ]
  },
  {
   "cell_type": "markdown",
   "id": "f73b7a8d",
   "metadata": {},
   "source": [
    "The final accuracy on the test set of the logistic regression model is 86%. This is good and confirms my earlier claim that the model was not overfitted on the training set, actually performing slightly better on the test set"
   ]
  },
  {
   "cell_type": "markdown",
   "id": "f77a11b3",
   "metadata": {},
   "source": [
    "Now we will take a look at what features the model deemed to be important, and which ones were redundant"
   ]
  },
  {
   "cell_type": "code",
   "execution_count": 66,
   "id": "c3382991",
   "metadata": {},
   "outputs": [
    {
     "name": "stdout",
     "output_type": "stream",
     "text": [
      "                                   odds\n",
      "Weight                         2.308414\n",
      "Height                         0.450647\n",
      "BMI                            0.681304\n",
      "diastolic_avg                  0.848463\n",
      "systolic_avg                   1.117096\n",
      "pulse_rate_BPM                 0.826758\n",
      "Age                            3.709708\n",
      "FamilySize                     1.228602\n",
      "FamilyIncomePovertyRatio       0.947339\n",
      "Gender_Female                  0.068755\n",
      "Gender_Male                    1.000000\n",
      "Race_Mexican American          0.769882\n",
      "Race_Non-Hispanic Black        0.286955\n",
      "Race_Non-Hispanic White        2.108237\n",
      "Race_Other Hispanic            0.462063\n",
      "Race_Other Race                1.000000\n",
      "CountryOfBirth_Other           0.464597\n",
      "CountryOfBirth_U.S.A.          1.000000\n",
      "CitizenshipStatus_Citizen      1.000000\n",
      "CitizenshipStatus_Non-Citizen  0.112796\n"
     ]
    },
    {
     "name": "stderr",
     "output_type": "stream",
     "text": [
      "C:\\Users\\hunua\\AppData\\Roaming\\Python\\Python39\\site-packages\\sklearn\\utils\\deprecation.py:87: FutureWarning: Function get_feature_names is deprecated; get_feature_names is deprecated in 1.0 and will be removed in 1.2. Please use get_feature_names_out instead.\n",
      "  warnings.warn(msg, category=FutureWarning)\n"
     ]
    }
   ],
   "source": [
    "classifier = final_modelLR.named_steps['classifier']\n",
    "preprocessor = final_modelLR.named_steps['preprocessor']\n",
    "\n",
    "categorical_column_names = final_modelLR.named_steps['preprocessor'].transformers_[1][1].get_feature_names(categorical_columns)\n",
    "numerical_column_names = numerical_columns\n",
    "column_names = numerical_column_names.copy()\n",
    "column_names.extend(categorical_column_names)\n",
    "\n",
    "log_odds = classifier.coef_[0]\n",
    "odds = np.exp(log_odds)\n",
    "final_results = pd.DataFrame(odds, \n",
    "             column_names, \n",
    "             columns=['odds'])\n",
    "# \\.sort_values(by='odds', ascending=False)\n",
    "\n",
    "print(final_results)"
   ]
  }
 ],
 "metadata": {
  "kernelspec": {
   "display_name": "Python 3 (ipykernel)",
   "language": "python",
   "name": "python3"
  },
  "language_info": {
   "codemirror_mode": {
    "name": "ipython",
    "version": 3
   },
   "file_extension": ".py",
   "mimetype": "text/x-python",
   "name": "python",
   "nbconvert_exporter": "python",
   "pygments_lexer": "ipython3",
   "version": "3.9.6"
  }
 },
 "nbformat": 4,
 "nbformat_minor": 5
}
