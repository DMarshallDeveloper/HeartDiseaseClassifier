{
 "cells": [
  {
   "cell_type": "markdown",
   "id": "96da9f96",
   "metadata": {},
   "source": [
    "# DATA301 Project Phase 2"
   ]
  },
  {
   "cell_type": "markdown",
   "id": "2db3138f",
   "metadata": {},
   "source": [
    "This is my notebook for phase 2 of my project for DATA301.\n",
    "\n",
    "In it I will go through all the stages of loading in the data, cleaning and preprocessing it, examining the features, and finally producing the best model I can for my fitted data"
   ]
  },
  {
   "cell_type": "markdown",
   "id": "f52f8b30",
   "metadata": {},
   "source": [
    "### Part 1 - Loading"
   ]
  },
  {
   "cell_type": "markdown",
   "id": "39262c48",
   "metadata": {},
   "source": [
    "In this part I will load all the required libraries, as well as the required datasets"
   ]
  },
  {
   "cell_type": "markdown",
   "id": "cc49703a",
   "metadata": {},
   "source": [
    "Loading the libraries"
   ]
  },
  {
   "cell_type": "code",
   "execution_count": 110,
   "id": "6da7c2ed",
   "metadata": {},
   "outputs": [],
   "source": [
    "import numpy as np\n",
    "import pandas as pd\n",
    "import sklearn.linear_model\n",
    "\n",
    "%matplotlib inline\n",
    "import matplotlib as mpl\n",
    "import matplotlib.pyplot as plt\n",
    "from sklearn.model_selection import train_test_split\n",
    "from pandas.plotting import scatter_matrix\n",
    "from sklearn.pipeline import Pipeline\n",
    "from sklearn.impute import SimpleImputer\n",
    "from sklearn.preprocessing import StandardScaler\n",
    "from sklearn.linear_model import LinearRegression\n",
    "from sklearn.metrics import mean_squared_error\n",
    "from sklearn.tree import DecisionTreeRegressor"
   ]
  },
  {
   "cell_type": "markdown",
   "id": "a4022acd",
   "metadata": {},
   "source": [
    "Now we will load all the datasets that we want to use\n",
    "1. Body Measures - https://wwwn.cdc.gov/Nchs/Nhanes/2017-2018/BMX_J.htm\n",
    "2. Blood Pressure - https://wwwn.cdc.gov/Nchs/Nhanes/2017-2018/BPX_J.htm\n",
    "3. Cardiovasular Health - https://wwwn.cdc.gov/Nchs/Nhanes/2017-2018/CDQ_J.htm\n",
    "4. Demographics - https://wwwn.cdc.gov/Nchs/Nhanes/2017-2018/DEMO_J.htm4.\n",
    "5. Medical Conditions - https://wwwn.cdc.gov/Nchs/Nhanes/2017-2018/MCQ_J.htm"
   ]
  },
  {
   "cell_type": "code",
   "execution_count": 111,
   "id": "5d2520ad",
   "metadata": {},
   "outputs": [],
   "source": [
    "body_measures = pd.read_sas('data\\BMX_J.XPT')\n",
    "blood_pressure = pd.read_sas('data\\BPX_J.XPT')\n",
    "cardio_health = pd.read_sas('data\\CDQ_J.XPT')\n",
    "demographics = pd.read_sas('data\\DEMO_J.XPT')\n",
    "medical_conditions = pd.read_sas('data\\MCQ_J.XPT')"
   ]
  },
  {
   "cell_type": "markdown",
   "id": "2ace5c81",
   "metadata": {},
   "source": [
    "Now we need to drop several columns."
   ]
  },
  {
   "cell_type": "markdown",
   "id": "f7ed6d35",
   "metadata": {},
   "source": [
    "#### Body Measures Dataset"
   ]
  },
  {
   "cell_type": "markdown",
   "id": "2aadad0a",
   "metadata": {},
   "source": [
    "For our first dataset, the body measures one, there are only 4 columns that we are interested in from looking at the documentation (https://wwwn.cdc.gov/Nchs/Nhanes/2017-2018/BMX_J.htm), which would be the SEQN, weight, height, and BMI, and the rest seem unneccesary so we will exclude them."
   ]
  },
  {
   "cell_type": "code",
   "execution_count": 112,
   "id": "bf13d03c",
   "metadata": {},
   "outputs": [
    {
     "name": "stdout",
     "output_type": "stream",
     "text": [
      "      SEQN  Weight  Height   BMI\n",
      "0  93703.0    13.7    88.6  17.5\n",
      "1  93704.0    13.9    94.2  15.7\n",
      "2  93705.0    79.5   158.3  31.7\n",
      "3  93706.0    66.3   175.7  21.5\n",
      "4  93707.0    45.4   158.4  18.1\n",
      "Total number of respondents\n",
      "8704\n",
      "% NaN occurrences in Columns:\n",
      "SEQN      0.000000\n",
      "Weight    1.424632\n",
      "Height    7.904412\n",
      "BMI       8.030790\n",
      "dtype: float64\n"
     ]
    }
   ],
   "source": [
    "body_measures_short = body_measures[['SEQN', 'BMXWT', 'BMXHT', 'BMXBMI']]\n",
    "body_measures_short.columns = ['SEQN', 'Weight', 'Height', 'BMI']\n",
    "print(body_measures_short.head())\n",
    "\n",
    "print('Total number of respondents')\n",
    "print(len(body_measures_short))\n",
    "print('% NaN occurrences in Columns:')\n",
    "print(100 * body_measures_short.isnull().sum(axis = 0)/len(body_measures_short))"
   ]
  },
  {
   "cell_type": "markdown",
   "id": "b8ca2e84",
   "metadata": {},
   "source": [
    "We can see that of the columns we have selected, they have very few NA values in them which means that we can be happy using them for now"
   ]
  },
  {
   "cell_type": "markdown",
   "id": "73cf4285",
   "metadata": {},
   "source": [
    "#### Blood Pressure Dataset"
   ]
  },
  {
   "cell_type": "markdown",
   "id": "803d169b",
   "metadata": {},
   "source": [
    "For our second dataset, the blood pressure one, there are several unneccessary columns. From reading the documentation (https://wwwn.cdc.gov/Nchs/Nhanes/2017-2018/BPX_J.htm), we can see that there are columns about cuff size, and which arm the measurement was taken on, but we are only interested in the recorded blood pressure and the resting heart rate. Since the blood pressure was measured 4 consecutive times, we are going to take an average of the four as our resulting blood pressures, and keep these along with their 60 second heart rate. But first, we need to check if any of these columns have high occurrences of NAs, as they will affect the output"
   ]
  },
  {
   "cell_type": "code",
   "execution_count": 113,
   "id": "bdac03a0",
   "metadata": {},
   "outputs": [
    {
     "name": "stdout",
     "output_type": "stream",
     "text": [
      "Total number of respondents\n",
      "8704\n",
      "% NaN occurrences in Columns:\n",
      "SEQN         0.000000\n",
      "PEASCCT1    94.898897\n",
      "BPXCHR      82.318474\n",
      "BPAARM      21.679688\n",
      "BPACSZ      21.737132\n",
      "BPXPLS      22.541360\n",
      "BPXPULS      4.859835\n",
      "BPXPTY      22.541360\n",
      "BPXML1      22.667739\n",
      "BPXSY1      27.596507\n",
      "BPXDI1      27.596507\n",
      "BPAEN1      27.596507\n",
      "BPXSY2      24.597886\n",
      "BPXDI2      24.597886\n",
      "BPAEN2      24.597886\n",
      "BPXSY3      24.885110\n",
      "BPXDI3      24.885110\n",
      "BPAEN3      24.885110\n",
      "BPXSY4      93.612132\n",
      "BPXDI4      93.612132\n",
      "BPAEN4      93.612132\n",
      "dtype: float64\n"
     ]
    }
   ],
   "source": [
    "print('Total number of respondents')\n",
    "print(len(blood_pressure))\n",
    "print('% NaN occurrences in Columns:')\n",
    "print(100 * blood_pressure.isnull().sum(axis = 0)/len(blood_pressure))"
   ]
  },
  {
   "cell_type": "markdown",
   "id": "99a5895c",
   "metadata": {},
   "source": [
    "Most of the columns that we want to use have about 25% of reponses that are NAs, which is okay for our purposes. However, the fourth reading has 93% NA responses, so we will exclude it from our calculations and just use the first 3 readings of the blood pressures"
   ]
  },
  {
   "cell_type": "code",
   "execution_count": 114,
   "id": "7848e860",
   "metadata": {
    "scrolled": true
   },
   "outputs": [
    {
     "name": "stdout",
     "output_type": "stream",
     "text": [
      "      SEQN  diastolic_avg  systolic_avg  pulse_rate_BPM\n",
      "0  93703.0            NaN           NaN             NaN\n",
      "1  93704.0            NaN           NaN             NaN\n",
      "2  93705.0            NaN           NaN            52.0\n",
      "3  93706.0      73.333333    111.333333            82.0\n",
      "4  93707.0      47.333333    128.000000           100.0\n",
      "2627\n",
      "8704\n"
     ]
    }
   ],
   "source": [
    "blood_pressure['diastolic_avg'] = blood_pressure[['BPXDI1', 'BPXDI2', 'BPXDI3']].mean(axis=1, skipna=False)\n",
    "blood_pressure['systolic_avg'] = blood_pressure[['BPXSY1', 'BPXSY2', 'BPXSY3']].mean(axis=1, skipna=False)\n",
    "blood_pressure['pulse_rate_BPM'] = blood_pressure['BPXPLS']\n",
    "blood_pressure_short = blood_pressure[['SEQN', 'diastolic_avg', 'systolic_avg', 'pulse_rate_BPM']]\n",
    "print(blood_pressure_short.head())\n",
    "print(len(blood_pressure_short[blood_pressure_short.isna().any(axis=1)]))\n",
    "print(len(blood_pressure_short))"
   ]
  },
  {
   "cell_type": "markdown",
   "id": "7506463b",
   "metadata": {
    "scrolled": true
   },
   "source": [
    "From this we can see that there are now around 20% of responses that have an NA in one or more of these columns, which is an acceptable number, and we will deal with these later."
   ]
  },
  {
   "cell_type": "markdown",
   "id": "78c12de5",
   "metadata": {},
   "source": [
    "#### Cardiovascular Health Dataset"
   ]
  },
  {
   "cell_type": "markdown",
   "id": "8dd31b64",
   "metadata": {},
   "source": [
    "Next we are going to take a look at the cardiovascular health dataset, and see if there are any columns which need to be dropped. Referring to the documentation, https://wwwn.cdc.gov/Nchs/Nhanes/2017-2018/CDQ_J.htm, there are a lot of columns which seem useful, so we will first check the percentage of NA responses for each column"
   ]
  },
  {
   "cell_type": "code",
   "execution_count": 115,
   "id": "9337b434",
   "metadata": {},
   "outputs": [
    {
     "name": "stdout",
     "output_type": "stream",
     "text": [
      "Total number of respondents\n",
      "3882\n",
      "% NaN occurrences in Columns:\n",
      "SEQN        0.000000\n",
      "CDQ001      0.000000\n",
      "CDQ002     70.736734\n",
      "CDQ003     90.288511\n",
      "CDQ004     91.164348\n",
      "CDQ005     91.859866\n",
      "CDQ006     93.122102\n",
      "CDQ009A    99.613601\n",
      "CDQ009B    98.995363\n",
      "CDQ009C    99.665121\n",
      "CDQ009D    96.548171\n",
      "CDQ009E    98.402885\n",
      "CDQ009F    97.758887\n",
      "CDQ009G    99.639361\n",
      "CDQ009H    99.845440\n",
      "CDQ008     70.736734\n",
      "CDQ010      0.000000\n",
      "dtype: float64\n"
     ]
    }
   ],
   "source": [
    "print('Total number of respondents')\n",
    "print(len(cardio_health))\n",
    "print('% NaN occurrences in Columns:')\n",
    "print(100 * cardio_health.isnull().sum(axis = 0)/len(cardio_health))"
   ]
  },
  {
   "cell_type": "markdown",
   "id": "ad135be7",
   "metadata": {},
   "source": [
    "This dataset seems very empty, as there are only 3 columns that have more than 30% of respondents answering, so I do not think that this dataset is very good to use, as trying to fill in the missing values will be too hard as there are too many of them for it to be useful, so we will no longer work with this dataset"
   ]
  },
  {
   "cell_type": "markdown",
   "id": "e752d291",
   "metadata": {},
   "source": [
    "#### Demographics Dataset"
   ]
  },
  {
   "cell_type": "markdown",
   "id": "fd6055d2",
   "metadata": {},
   "source": [
    "Thirdly we take a look at the demographics dataset. According to the documentation, https://wwwn.cdc.gov/Nchs/Nhanes/2017-2018/DEMO_J.htm, this contains questions about peoples lives that are more general than the strictly medical data we have looked at so far. There are also a lot more columns in this dataset than the others, so we will see if there are any columns that we can drop based on them having too many null values"
   ]
  },
  {
   "cell_type": "code",
   "execution_count": 116,
   "id": "ddfa9e87",
   "metadata": {},
   "outputs": [
    {
     "name": "stdout",
     "output_type": "stream",
     "text": [
      "Total number of respondents\n",
      "9254\n",
      "% NaN occurrences in Columns:\n",
      "SEQN         0.000000\n",
      "SDDSRVYR     0.000000\n",
      "RIDSTATR     0.000000\n",
      "RIAGENDR     0.000000\n",
      "RIDAGEYR     0.000000\n",
      "RIDAGEMN    93.548736\n",
      "RIDRETH1     0.000000\n",
      "RIDRETH3     0.000000\n",
      "RIDEXMON     5.943376\n",
      "RIDEXAGM    62.902529\n",
      "DMQMILIZ    35.119948\n",
      "DMQADFC     93.937757\n",
      "DMDBORN4     0.000000\n",
      "DMDCITZN     0.032418\n",
      "DMDYRSUS    78.949643\n",
      "DMDEDUC3    75.081046\n",
      "DMDEDUC2    39.820618\n",
      "DMDMARTL    39.820618\n",
      "RIDEXPRG    88.005187\n",
      "SIALANG      0.000000\n",
      "SIAPROXY     0.000000\n",
      "SIAINTRP     0.000000\n",
      "FIALANG      5.122109\n",
      "FIAPROXY     5.122109\n",
      "FIAINTRP     5.122109\n",
      "MIALANG     27.771774\n",
      "MIAPROXY    27.771774\n",
      "MIAINTRP    27.771774\n",
      "AIALANGA    46.217852\n",
      "DMDHHSIZ     0.000000\n",
      "DMDFMSIZ     0.000000\n",
      "DMDHHSZA     0.000000\n",
      "DMDHHSZB     0.000000\n",
      "DMDHHSZE     0.000000\n",
      "DMDHRGND     0.000000\n",
      "DMDHRAGZ     0.000000\n",
      "DMDHREDZ     5.295008\n",
      "DMDHRMAZ     2.063972\n",
      "DMDHSEDZ    48.660039\n",
      "WTINT2YR     0.000000\n",
      "WTMEC2YR     0.000000\n",
      "SDMVPSU      0.000000\n",
      "SDMVSTRA     0.000000\n",
      "INDHHIN2     5.305814\n",
      "INDFMIN2     5.122109\n",
      "INDFMPIR    13.302356\n",
      "dtype: float64\n"
     ]
    }
   ],
   "source": [
    "print('Total number of respondents')\n",
    "print(len(demographics))\n",
    "print('% NaN occurrences in Columns:')\n",
    "print(100 * demographics.isnull().sum(axis = 0)/len(demographics))"
   ]
  },
  {
   "cell_type": "markdown",
   "id": "9d35c435",
   "metadata": {},
   "source": [
    "Most of the columns have very few NA values, so we will go ahead and drop all those that have high NA responses"
   ]
  },
  {
   "cell_type": "code",
   "execution_count": 117,
   "id": "6b8fc558",
   "metadata": {},
   "outputs": [
    {
     "name": "stdout",
     "output_type": "stream",
     "text": [
      "Index(['SEQN', 'SDDSRVYR', 'RIDSTATR', 'RIAGENDR', 'RIDAGEYR', 'RIDRETH1',\n",
      "       'RIDRETH3', 'RIDEXMON', 'DMDBORN4', 'DMDCITZN', 'SIALANG', 'SIAPROXY',\n",
      "       'SIAINTRP', 'FIALANG', 'FIAPROXY', 'FIAINTRP', 'DMDHHSIZ', 'DMDFMSIZ',\n",
      "       'DMDHHSZA', 'DMDHHSZB', 'DMDHHSZE', 'DMDHRGND', 'DMDHRAGZ', 'DMDHREDZ',\n",
      "       'DMDHRMAZ', 'WTINT2YR', 'WTMEC2YR', 'SDMVPSU', 'SDMVSTRA', 'INDHHIN2',\n",
      "       'INDFMIN2', 'INDFMPIR'],\n",
      "      dtype='object')\n"
     ]
    }
   ],
   "source": [
    "demographics_short = demographics.copy()\n",
    "demographics_short.drop(['RIDAGEMN', 'RIDEXAGM', 'DMQMILIZ', 'DMQADFC', 'DMDYRSUS', 'DMDEDUC3', 'DMDEDUC2', 'DMDMARTL', 'RIDEXPRG', 'MIALANG', 'MIAPROXY', 'MIAINTRP', 'AIALANGA', 'DMDHSEDZ'], axis=1, inplace=True)\n",
    "print(demographics_short.columns)"
   ]
  },
  {
   "cell_type": "markdown",
   "id": "fd807239",
   "metadata": {},
   "source": [
    "Next we will select all the columns that we deem relevant. Looking through the dataset, the ones which we do not want to keep are ones that are less about the person, like the data release cycle, and the time period over which the questionaire was conducted, and other irrelevant information such as the information about the household reference person. We do this to narrow down the number of features so that the classification does not become overfitted"
   ]
  },
  {
   "cell_type": "code",
   "execution_count": 118,
   "id": "cd85f47b",
   "metadata": {},
   "outputs": [
    {
     "name": "stdout",
     "output_type": "stream",
     "text": [
      "      SEQN  RIAGENDR  RIDAGEYR  RIDRETH1  DMDBORN4  DMDCITZN  DMDFMSIZ  \\\n",
      "0  93703.0       2.0       2.0       5.0       1.0       1.0       5.0   \n",
      "1  93704.0       1.0       2.0       3.0       1.0       1.0       4.0   \n",
      "2  93705.0       2.0      66.0       4.0       1.0       1.0       1.0   \n",
      "3  93706.0       1.0      18.0       5.0       1.0       1.0       5.0   \n",
      "4  93707.0       1.0      13.0       5.0       1.0       1.0       7.0   \n",
      "\n",
      "   INDHHIN2  INDFMIN2  INDFMPIR  \n",
      "0      15.0      15.0      5.00  \n",
      "1      15.0      15.0      5.00  \n",
      "2       3.0       3.0      0.82  \n",
      "3       NaN       NaN       NaN  \n",
      "4      10.0      10.0      1.88  \n",
      "Index(['SEQN', 'RIAGENDR', 'RIDAGEYR', 'RIDRETH1', 'DMDBORN4', 'DMDCITZN',\n",
      "       'DMDFMSIZ', 'INDHHIN2', 'INDFMIN2', 'INDFMPIR'],\n",
      "      dtype='object')\n"
     ]
    }
   ],
   "source": [
    "demographics_short2 = demographics_short.copy()\n",
    "demographics_short2.drop(['SDDSRVYR', 'RIDSTATR', 'RIDRETH3', 'RIDEXMON', 'SIALANG', 'SIAPROXY', 'SIAINTRP', 'FIALANG', 'FIAPROXY', 'FIAINTRP', 'DMDHHSIZ', 'DMDHHSZA', 'DMDHHSZB', 'DMDHHSZE', 'DMDHRGND', 'DMDHRAGZ', 'DMDHREDZ', 'DMDHRMAZ', 'WTINT2YR', 'WTMEC2YR', 'SDMVPSU', 'SDMVSTRA'], axis=1, inplace=True)\n",
    "print(demographics_short2.head())\n",
    "print(demographics_short2.columns)"
   ]
  },
  {
   "cell_type": "markdown",
   "id": "b372fdc8",
   "metadata": {},
   "source": [
    "Finally we will rename the variables in this dataset too so that they are clearer to understand"
   ]
  },
  {
   "cell_type": "code",
   "execution_count": 119,
   "id": "71292e74",
   "metadata": {},
   "outputs": [
    {
     "data": {
      "text/html": [
       "<div>\n",
       "<style scoped>\n",
       "    .dataframe tbody tr th:only-of-type {\n",
       "        vertical-align: middle;\n",
       "    }\n",
       "\n",
       "    .dataframe tbody tr th {\n",
       "        vertical-align: top;\n",
       "    }\n",
       "\n",
       "    .dataframe thead th {\n",
       "        text-align: right;\n",
       "    }\n",
       "</style>\n",
       "<table border=\"1\" class=\"dataframe\">\n",
       "  <thead>\n",
       "    <tr style=\"text-align: right;\">\n",
       "      <th></th>\n",
       "      <th>SEQN</th>\n",
       "      <th>Gender</th>\n",
       "      <th>Age</th>\n",
       "      <th>Race</th>\n",
       "      <th>CountryOfBirth</th>\n",
       "      <th>CitizenshipStatus</th>\n",
       "      <th>FamilySize</th>\n",
       "      <th>AnnualHouseholdIncome</th>\n",
       "      <th>AnnualFamilyIncome</th>\n",
       "      <th>FamilyIncomePovertyRatio</th>\n",
       "    </tr>\n",
       "  </thead>\n",
       "  <tbody>\n",
       "    <tr>\n",
       "      <th>0</th>\n",
       "      <td>93703.0</td>\n",
       "      <td>2.0</td>\n",
       "      <td>2.0</td>\n",
       "      <td>5.0</td>\n",
       "      <td>1.0</td>\n",
       "      <td>1.0</td>\n",
       "      <td>5.0</td>\n",
       "      <td>15.0</td>\n",
       "      <td>15.0</td>\n",
       "      <td>5.00</td>\n",
       "    </tr>\n",
       "    <tr>\n",
       "      <th>1</th>\n",
       "      <td>93704.0</td>\n",
       "      <td>1.0</td>\n",
       "      <td>2.0</td>\n",
       "      <td>3.0</td>\n",
       "      <td>1.0</td>\n",
       "      <td>1.0</td>\n",
       "      <td>4.0</td>\n",
       "      <td>15.0</td>\n",
       "      <td>15.0</td>\n",
       "      <td>5.00</td>\n",
       "    </tr>\n",
       "    <tr>\n",
       "      <th>2</th>\n",
       "      <td>93705.0</td>\n",
       "      <td>2.0</td>\n",
       "      <td>66.0</td>\n",
       "      <td>4.0</td>\n",
       "      <td>1.0</td>\n",
       "      <td>1.0</td>\n",
       "      <td>1.0</td>\n",
       "      <td>3.0</td>\n",
       "      <td>3.0</td>\n",
       "      <td>0.82</td>\n",
       "    </tr>\n",
       "    <tr>\n",
       "      <th>3</th>\n",
       "      <td>93706.0</td>\n",
       "      <td>1.0</td>\n",
       "      <td>18.0</td>\n",
       "      <td>5.0</td>\n",
       "      <td>1.0</td>\n",
       "      <td>1.0</td>\n",
       "      <td>5.0</td>\n",
       "      <td>NaN</td>\n",
       "      <td>NaN</td>\n",
       "      <td>NaN</td>\n",
       "    </tr>\n",
       "    <tr>\n",
       "      <th>4</th>\n",
       "      <td>93707.0</td>\n",
       "      <td>1.0</td>\n",
       "      <td>13.0</td>\n",
       "      <td>5.0</td>\n",
       "      <td>1.0</td>\n",
       "      <td>1.0</td>\n",
       "      <td>7.0</td>\n",
       "      <td>10.0</td>\n",
       "      <td>10.0</td>\n",
       "      <td>1.88</td>\n",
       "    </tr>\n",
       "  </tbody>\n",
       "</table>\n",
       "</div>"
      ],
      "text/plain": [
       "      SEQN  Gender   Age  Race  CountryOfBirth  CitizenshipStatus  FamilySize  \\\n",
       "0  93703.0     2.0   2.0   5.0             1.0                1.0         5.0   \n",
       "1  93704.0     1.0   2.0   3.0             1.0                1.0         4.0   \n",
       "2  93705.0     2.0  66.0   4.0             1.0                1.0         1.0   \n",
       "3  93706.0     1.0  18.0   5.0             1.0                1.0         5.0   \n",
       "4  93707.0     1.0  13.0   5.0             1.0                1.0         7.0   \n",
       "\n",
       "   AnnualHouseholdIncome  AnnualFamilyIncome  FamilyIncomePovertyRatio  \n",
       "0                   15.0                15.0                      5.00  \n",
       "1                   15.0                15.0                      5.00  \n",
       "2                    3.0                 3.0                      0.82  \n",
       "3                    NaN                 NaN                       NaN  \n",
       "4                   10.0                10.0                      1.88  "
      ]
     },
     "execution_count": 119,
     "metadata": {},
     "output_type": "execute_result"
    }
   ],
   "source": [
    "demographics_short2.columns = ['SEQN', 'Gender', 'Age', 'Race', 'CountryOfBirth', 'CitizenshipStatus', 'FamilySize', 'AnnualHouseholdIncome', 'AnnualFamilyIncome', 'FamilyIncomePovertyRatio']\n",
    "demographics_short2.head()"
   ]
  },
  {
   "cell_type": "markdown",
   "id": "dde8726c",
   "metadata": {
    "scrolled": true
   },
   "source": [
    "Now we have an acceptable amount of data from this dataset, we can move on to the next one"
   ]
  },
  {
   "cell_type": "markdown",
   "id": "ebcaf940",
   "metadata": {},
   "source": [
    "#### Medical Conditions Dataset"
   ]
  },
  {
   "cell_type": "markdown",
   "id": "32115f40",
   "metadata": {},
   "source": [
    "For the medical conditions dataset, we are only interested in the column MCQ160c - Ever told you had coronary heart disease. This is our class column, which is asking respondents if a doctor or other health professional ever told them that they had coronary heart disease, and the SEQN to allow us to merge this dataset with all the others. So we will isolate these two columns, and then check for null values"
   ]
  },
  {
   "cell_type": "code",
   "execution_count": 120,
   "id": "e8d2b0d6",
   "metadata": {},
   "outputs": [
    {
     "name": "stdout",
     "output_type": "stream",
     "text": [
      "Total number of respondents\n",
      "8897\n",
      "% NaN occurrences in Columns:\n",
      "SEQN                0.000000\n",
      "hasHeartDisease    37.405867\n",
      "dtype: float64\n"
     ]
    }
   ],
   "source": [
    "medical_conditions_short = medical_conditions[['SEQN', 'MCQ160C']]\n",
    "medical_conditions_short.columns = ['SEQN', 'hasHeartDisease']\n",
    "print('Total number of respondents')\n",
    "print(len(medical_conditions_short))\n",
    "print('% NaN occurrences in Columns:')\n",
    "print(100 * medical_conditions_short.isnull().sum(axis = 0)/len(medical_conditions_short))"
   ]
  },
  {
   "cell_type": "markdown",
   "id": "09b7ace5",
   "metadata": {},
   "source": [
    "From this we can see that around 37% of respondents we don't have an answer for, which is quite a high number, however our dataset is very large so we should be able to remove these columns later and still have enough data to perform our analysis"
   ]
  },
  {
   "cell_type": "code",
   "execution_count": 121,
   "id": "52dcd921",
   "metadata": {},
   "outputs": [
    {
     "name": "stdout",
     "output_type": "stream",
     "text": [
      "      SEQN  hasHeartDisease\n",
      "0  93703.0              NaN\n",
      "1  93704.0              NaN\n",
      "2  93705.0              2.0\n",
      "3  93706.0              NaN\n",
      "4  93707.0              NaN\n",
      "3328\n",
      "8897\n"
     ]
    }
   ],
   "source": [
    "medical_conditions_short = medical_conditions[['SEQN', 'MCQ160C']]\n",
    "medical_conditions_short.columns = ['SEQN', 'hasHeartDisease']\n",
    "print(medical_conditions_short.head())"
   ]
  },
  {
   "cell_type": "markdown",
   "id": "2af12fa4",
   "metadata": {
    "scrolled": true
   },
   "source": [
    "# Merging"
   ]
  },
  {
   "cell_type": "markdown",
   "id": "e8235f5c",
   "metadata": {
    "scrolled": true
   },
   "source": [
    "The next step is to merge together the datasets on Respondent Sequence number."
   ]
  },
  {
   "cell_type": "markdown",
   "id": "e8eccb21",
   "metadata": {},
   "source": [
    "First we take a look at the columns in each dataset to ensure that they all have a Respondent Sequence Number column"
   ]
  },
  {
   "cell_type": "code",
   "execution_count": 126,
   "id": "0e0fbd7f",
   "metadata": {},
   "outputs": [
    {
     "name": "stdout",
     "output_type": "stream",
     "text": [
      "<class 'pandas.core.frame.DataFrame'>\n",
      "RangeIndex: 8704 entries, 0 to 8703\n",
      "Data columns (total 4 columns):\n",
      " #   Column  Non-Null Count  Dtype  \n",
      "---  ------  --------------  -----  \n",
      " 0   SEQN    8704 non-null   float64\n",
      " 1   Weight  8580 non-null   float64\n",
      " 2   Height  8016 non-null   float64\n",
      " 3   BMI     8005 non-null   float64\n",
      "dtypes: float64(4)\n",
      "memory usage: 272.1 KB\n",
      "None\n",
      "<class 'pandas.core.frame.DataFrame'>\n",
      "RangeIndex: 8704 entries, 0 to 8703\n",
      "Data columns (total 4 columns):\n",
      " #   Column          Non-Null Count  Dtype  \n",
      "---  ------          --------------  -----  \n",
      " 0   SEQN            8704 non-null   float64\n",
      " 1   diastolic_avg   6077 non-null   float64\n",
      " 2   systolic_avg    6077 non-null   float64\n",
      " 3   pulse_rate_BPM  6742 non-null   float64\n",
      "dtypes: float64(4)\n",
      "memory usage: 272.1 KB\n",
      "None\n",
      "<class 'pandas.core.frame.DataFrame'>\n",
      "RangeIndex: 9254 entries, 0 to 9253\n",
      "Data columns (total 10 columns):\n",
      " #   Column                    Non-Null Count  Dtype  \n",
      "---  ------                    --------------  -----  \n",
      " 0   SEQN                      9254 non-null   float64\n",
      " 1   Gender                    9254 non-null   float64\n",
      " 2   Age                       9254 non-null   float64\n",
      " 3   Race                      9254 non-null   float64\n",
      " 4   CountryOfBirth            9254 non-null   float64\n",
      " 5   CitizenshipStatus         9251 non-null   float64\n",
      " 6   FamilySize                9254 non-null   float64\n",
      " 7   AnnualHouseholdIncome     8763 non-null   float64\n",
      " 8   AnnualFamilyIncome        8780 non-null   float64\n",
      " 9   FamilyIncomePovertyRatio  8023 non-null   float64\n",
      "dtypes: float64(10)\n",
      "memory usage: 723.1 KB\n",
      "None\n",
      "<class 'pandas.core.frame.DataFrame'>\n",
      "RangeIndex: 8897 entries, 0 to 8896\n",
      "Data columns (total 2 columns):\n",
      " #   Column           Non-Null Count  Dtype  \n",
      "---  ------           --------------  -----  \n",
      " 0   SEQN             8897 non-null   float64\n",
      " 1   hasHeartDisease  5569 non-null   float64\n",
      "dtypes: float64(2)\n",
      "memory usage: 139.1 KB\n",
      "None\n"
     ]
    }
   ],
   "source": [
    "print(body_measures_short.info())\n",
    "print(blood_pressure_short.info())\n",
    "print(demographics_short2.info())\n",
    "print(medical_conditions_short.info())"
   ]
  },
  {
   "cell_type": "markdown",
   "id": "9717a360",
   "metadata": {},
   "source": [
    "Since they all have the SEQN column, we are safe to merge on this column"
   ]
  },
  {
   "cell_type": "code",
   "execution_count": 129,
   "id": "b432e357",
   "metadata": {
    "scrolled": false
   },
   "outputs": [
    {
     "name": "stdout",
     "output_type": "stream",
     "text": [
      "      SEQN  Weight  Height   BMI  diastolic_avg  systolic_avg  pulse_rate_BPM  \\\n",
      "0  93703.0    13.7    88.6  17.5            NaN           NaN             NaN   \n",
      "1  93704.0    13.9    94.2  15.7            NaN           NaN             NaN   \n",
      "2  93705.0    79.5   158.3  31.7            NaN           NaN            52.0   \n",
      "3  93706.0    66.3   175.7  21.5      73.333333    111.333333            82.0   \n",
      "4  93707.0    45.4   158.4  18.1      47.333333    128.000000           100.0   \n",
      "\n",
      "   Gender   Age  Race  CountryOfBirth  CitizenshipStatus  FamilySize  \\\n",
      "0     2.0   2.0   5.0             1.0                1.0         5.0   \n",
      "1     1.0   2.0   3.0             1.0                1.0         4.0   \n",
      "2     2.0  66.0   4.0             1.0                1.0         1.0   \n",
      "3     1.0  18.0   5.0             1.0                1.0         5.0   \n",
      "4     1.0  13.0   5.0             1.0                1.0         7.0   \n",
      "\n",
      "   AnnualHouseholdIncome  AnnualFamilyIncome  FamilyIncomePovertyRatio  \\\n",
      "0                   15.0                15.0                      5.00   \n",
      "1                   15.0                15.0                      5.00   \n",
      "2                    3.0                 3.0                      0.82   \n",
      "3                    NaN                 NaN                       NaN   \n",
      "4                   10.0                10.0                      1.88   \n",
      "\n",
      "   hasHeartDisease  \n",
      "0              NaN  \n",
      "1              NaN  \n",
      "2              2.0  \n",
      "3              NaN  \n",
      "4              NaN  \n",
      "<class 'pandas.core.frame.DataFrame'>\n",
      "Int64Index: 8366 entries, 0 to 8365\n",
      "Data columns (total 17 columns):\n",
      " #   Column                    Non-Null Count  Dtype  \n",
      "---  ------                    --------------  -----  \n",
      " 0   SEQN                      8366 non-null   float64\n",
      " 1   Weight                    8242 non-null   float64\n",
      " 2   Height                    8016 non-null   float64\n",
      " 3   BMI                       8005 non-null   float64\n",
      " 4   diastolic_avg             6077 non-null   float64\n",
      " 5   systolic_avg              6077 non-null   float64\n",
      " 6   pulse_rate_BPM            6742 non-null   float64\n",
      " 7   Gender                    8366 non-null   float64\n",
      " 8   Age                       8366 non-null   float64\n",
      " 9   Race                      8366 non-null   float64\n",
      " 10  CountryOfBirth            8366 non-null   float64\n",
      " 11  CitizenshipStatus         8363 non-null   float64\n",
      " 12  FamilySize                8366 non-null   float64\n",
      " 13  AnnualHouseholdIncome     7989 non-null   float64\n",
      " 14  AnnualFamilyIncome        8007 non-null   float64\n",
      " 15  FamilyIncomePovertyRatio  7332 non-null   float64\n",
      " 16  hasHeartDisease           5265 non-null   float64\n",
      "dtypes: float64(17)\n",
      "memory usage: 1.1 MB\n",
      "None\n"
     ]
    }
   ],
   "source": [
    "joined_dataset = pd.merge(body_measures_short, blood_pressure_short, on='SEQN')\n",
    "joined_dataset = pd.merge(joined_dataset, demographics_short2, on='SEQN')\n",
    "joined_dataset = pd.merge(joined_dataset, medical_conditions_short, on='SEQN')\n",
    "print(joined_dataset.head())\n",
    "print(joined_dataset.info())"
   ]
  },
  {
   "cell_type": "markdown",
   "id": "07681448",
   "metadata": {
    "scrolled": false
   },
   "source": [
    "The first thing we can do is check the amounts of each class in the dataset"
   ]
  },
  {
   "cell_type": "code",
   "execution_count": 133,
   "id": "d074f53b",
   "metadata": {
    "scrolled": false
   },
   "outputs": [
    {
     "name": "stdout",
     "output_type": "stream",
     "text": [
      "2.0    5006\n",
      "1.0     243\n",
      "9.0      16\n",
      "Name: hasHeartDisease, dtype: int64\n",
      "2.0    0.598374\n",
      "1.0    0.029046\n",
      "9.0    0.001913\n",
      "Name: hasHeartDisease, dtype: float64\n"
     ]
    }
   ],
   "source": [
    "print(joined_dataset['hasHeartDisease'].value_counts())"
   ]
  },
  {
   "cell_type": "markdown",
   "id": "5ed9cbf7",
   "metadata": {},
   "source": [
    "According to the documentation, a 2 indicates a positive result, 1 indicates a negative result, and 9 means the person doesn't know. We will drop these entries as this is a binary classification, and there are only 16 of these rows. Note that there are a large amount of entries where there is no data for this column, so we will have to drop those entries as well, as they do not have a class associated with them. "
   ]
  },
  {
   "cell_type": "code",
   "execution_count": 140,
   "id": "17464df6",
   "metadata": {
    "scrolled": false
   },
   "outputs": [
    {
     "name": "stdout",
     "output_type": "stream",
     "text": [
      "5249\n"
     ]
    }
   ],
   "source": [
    "joined_dataset = joined_dataset.loc[joined_dataset['hasHeartDisease'].isin([2, 1])]\n",
    "print(len(joined_dataset))"
   ]
  },
  {
   "cell_type": "markdown",
   "id": "0f5fc736",
   "metadata": {},
   "source": [
    "Now that we have removed that data, looking at the positive and negative results, we can see that this is a heavily imbalanced dataset, because there are roughly 20 times as many people who don't have heart disease as those who do. This is to be expected, as the survey is of the whole country, and according to the CDC about 6.7% of people have Coronary Heart Disease. (https://www.cdc.gov/heartdisease/facts.htm). Nevertheless, this makes our classification harder, as we have to resolve this imbalance. First we will clean up the data some more, then from our clean data will resolve this imbalance"
   ]
  },
  {
   "cell_type": "code",
   "execution_count": 141,
   "id": "dd977d81",
   "metadata": {},
   "outputs": [
    {
     "name": "stdout",
     "output_type": "stream",
     "text": [
      "2.0    3671\n",
      "1.0     177\n",
      "Name: hasHeartDisease, dtype: int64\n"
     ]
    }
   ],
   "source": [
    "joined_dataset = joined_dataset.dropna()\n",
    "print(joined_dataset['hasHeartDisease'].value_counts())"
   ]
  }
 ],
 "metadata": {
  "kernelspec": {
   "display_name": "Python 3 (ipykernel)",
   "language": "python",
   "name": "python3"
  },
  "language_info": {
   "codemirror_mode": {
    "name": "ipython",
    "version": 3
   },
   "file_extension": ".py",
   "mimetype": "text/x-python",
   "name": "python",
   "nbconvert_exporter": "python",
   "pygments_lexer": "ipython3",
   "version": "3.9.6"
  }
 },
 "nbformat": 4,
 "nbformat_minor": 5
}
