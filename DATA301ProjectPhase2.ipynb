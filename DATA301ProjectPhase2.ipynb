{
 "cells": [
  {
   "cell_type": "markdown",
   "id": "96da9f96",
   "metadata": {},
   "source": [
    "# DATA301 Project Phase 2"
   ]
  },
  {
   "cell_type": "markdown",
   "id": "2db3138f",
   "metadata": {},
   "source": [
    "This is my notebook for phase 2 of my project for DATA301.\n",
    "\n",
    "In it I will go through all the stages of loading in the data, cleaning and preprocessing it, examining the features, and finally producing the best model I can for my fitted data"
   ]
  },
  {
   "cell_type": "markdown",
   "id": "f52f8b30",
   "metadata": {},
   "source": [
    "### Part 1 - Loading"
   ]
  },
  {
   "cell_type": "markdown",
   "id": "39262c48",
   "metadata": {},
   "source": [
    "In this part I will load all the required libraries, as well as the required datasets"
   ]
  },
  {
   "cell_type": "markdown",
   "id": "cc49703a",
   "metadata": {},
   "source": [
    "Loading the libraries"
   ]
  },
  {
   "cell_type": "code",
   "execution_count": null,
   "id": "6da7c2ed",
   "metadata": {},
   "outputs": [],
   "source": []
  }
 ],
 "metadata": {
  "kernelspec": {
   "display_name": "Python 3 (ipykernel)",
   "language": "python",
   "name": "python3"
  },
  "language_info": {
   "codemirror_mode": {
    "name": "ipython",
    "version": 3
   },
   "file_extension": ".py",
   "mimetype": "text/x-python",
   "name": "python",
   "nbconvert_exporter": "python",
   "pygments_lexer": "ipython3",
   "version": "3.9.6"
  }
 },
 "nbformat": 4,
 "nbformat_minor": 5
}
